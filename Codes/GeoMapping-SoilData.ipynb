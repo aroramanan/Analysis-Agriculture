{
 "cells": [
  {
   "cell_type": "markdown",
   "metadata": {},
   "source": [
    "#### Environment Setup"
   ]
  },
  {
   "cell_type": "code",
   "execution_count": 1,
   "metadata": {},
   "outputs": [],
   "source": [
    "import geopandas as gpd\n",
    "import pandas as pd\n",
    "import numpy as np\n",
    "import math"
   ]
  },
  {
   "cell_type": "markdown",
   "metadata": {},
   "source": [
    "#### Matching Sub-Districts to nearby Soil Stations and process it in a final form"
   ]
  },
  {
   "cell_type": "code",
   "execution_count": 2,
   "metadata": {},
   "outputs": [],
   "source": [
    "soil_locs = pd.read_csv(r'C:\\Users\\Manan Arora\\Desktop\\AgriTech Project\\Data Driven Business Metrics Project\\Data\\Soil Data\\AllSoilLocations-Geocoordinates.csv')"
   ]
  },
  {
   "cell_type": "code",
   "execution_count": 3,
   "metadata": {},
   "outputs": [],
   "source": [
    "ph_data = pd.read_csv(r'C:\\Users\\Manan Arora\\Desktop\\AgriTech Project\\Data Driven Business Metrics Project\\Data\\Soil Data\\SoilpHValues_Aggregated.csv')\n",
    "macro_data = pd.read_csv(r'C:\\Users\\Manan Arora\\Desktop\\AgriTech Project\\Data Driven Business Metrics Project\\Data\\Soil Data\\SoilMacroNutrients_Aggregated.csv').drop('Unnamed: 0',axis=1)\n",
    "micro_data = pd.read_csv(r'C:\\Users\\Manan Arora\\Desktop\\AgriTech Project\\Data Driven Business Metrics Project\\Data\\Soil Data\\SoilMicroNutrients_Aggregated.csv')\n",
    "ph_data['Address'] = ph_data['Sub District'] + ', ' + ph_data['District'] + ', ' +  ph_data['State']\n",
    "macro_data['Address'] = macro_data['Sub-District'] + ', ' + macro_data['District'] + ', ' + macro_data['State']\n",
    "micro_data['Address'] = micro_data['Sub-District'] + ', ' + micro_data['District'] + ', ' + micro_data['State']"
   ]
  },
  {
   "cell_type": "code",
   "execution_count": 4,
   "metadata": {},
   "outputs": [],
   "source": [
    "macro_data_loc = macro_data.merge(soil_locs,on='Address').reset_index().rename(columns={'index':'SoilNStation'})\n",
    "ph_data_loc = ph_data.merge(soil_locs,on='Address').reset_index().rename(columns={'index':'SoilpHStation'})\n",
    "micro_data_loc = micro_data.merge(soil_locs,on='Address').reset_index().rename(columns={'index':'SoilMStation'})"
   ]
  },
  {
   "cell_type": "code",
   "execution_count": 5,
   "metadata": {},
   "outputs": [],
   "source": [
    "macro_data_loc.to_csv(r'C:\\Users\\Manan Arora\\Desktop\\AgriTech Project\\Data Driven Business Metrics Project\\Data\\Soil Data\\SoilMacroNutrients_Geo.csv',index=False)\n",
    "micro_data_loc.to_csv(r'C:\\Users\\Manan Arora\\Desktop\\AgriTech Project\\Data Driven Business Metrics Project\\Data\\Soil Data\\SoilMicroNutrients_Geo.csv',index=False)\n",
    "ph_data_loc.to_csv(r'C:\\Users\\Manan Arora\\Desktop\\AgriTech Project\\Data Driven Business Metrics Project\\Data\\Soil Data\\SoilpHValues_Geo.csv',index=False)"
   ]
  },
  {
   "cell_type": "code",
   "execution_count": 6,
   "metadata": {},
   "outputs": [],
   "source": [
    "subdist_data = pd.read_csv(r'C:\\Users\\Manan Arora\\Desktop\\AgriTech Project\\Data Driven Business Metrics Project\\FinalSubDistData\\Geolocation-SubDistricts.csv')"
   ]
  },
  {
   "cell_type": "code",
   "execution_count": 7,
   "metadata": {},
   "outputs": [],
   "source": [
    "def distance(df):\n",
    "    lat1, lon1 = df['lat'], df['long']\n",
    "    distances = []\n",
    "    for i in range(len(macro_data_loc)):\n",
    "        lat2, lon2 = macro_data_loc['Latititude'][i],macro_data_loc['Longitude'][i]\n",
    "        radius = 6371 # km\n",
    "        dlat = math.radians(lat2-lat1)\n",
    "        dlon = math.radians(lon2-lon1)\n",
    "        a = math.sin(dlat/2) * math.sin(dlat/2) + math.cos(math.radians(lat1)) \\\n",
    "            * math.cos(math.radians(lat2)) * math.sin(dlon/2) * math.sin(dlon/2)\n",
    "        c = 2 * math.atan2(math.sqrt(a), math.sqrt(1-a))\n",
    "        d = radius * c\n",
    "        distances.append(d)\n",
    "    \n",
    "    stationno = macro_data_loc['SoilNStation'][np.array(distances).argmin()]\n",
    "\n",
    "    return stationno"
   ]
  },
  {
   "cell_type": "code",
   "execution_count": 8,
   "metadata": {},
   "outputs": [],
   "source": [
    "subdist_data['SoilNStation'] = subdist_data.apply(distance,axis=1)\n",
    "subdist_data = subdist_data.merge(macro_data_loc.drop(['State','District','Sub-District','Latititude','Longitude','Address'],axis=1),on='SoilNStation').drop('SoilNStation',axis=1)"
   ]
  },
  {
   "cell_type": "code",
   "execution_count": 9,
   "metadata": {},
   "outputs": [],
   "source": [
    "def distance(df):\n",
    "    lat1, lon1 = df['lat'], df['long']\n",
    "    distances = []\n",
    "    for i in range(len(micro_data_loc)):\n",
    "        lat2, lon2 = micro_data_loc['Latititude'][i],micro_data_loc['Longitude'][i]\n",
    "        radius = 6371 # km\n",
    "        dlat = math.radians(lat2-lat1)\n",
    "        dlon = math.radians(lon2-lon1)\n",
    "        a = math.sin(dlat/2) * math.sin(dlat/2) + math.cos(math.radians(lat1)) \\\n",
    "            * math.cos(math.radians(lat2)) * math.sin(dlon/2) * math.sin(dlon/2)\n",
    "        c = 2 * math.atan2(math.sqrt(a), math.sqrt(1-a))\n",
    "        d = radius * c\n",
    "        distances.append(d)\n",
    "    \n",
    "    stationno = micro_data_loc['SoilMStation'][np.array(distances).argmin()]\n",
    "\n",
    "    return stationno"
   ]
  },
  {
   "cell_type": "code",
   "execution_count": 10,
   "metadata": {},
   "outputs": [],
   "source": [
    "subdist_data['SoilMStation'] = subdist_data.apply(distance,axis=1)\n",
    "subdist_data = subdist_data.merge(micro_data_loc.drop(['State','District','Sub-District','Latititude','Longitude','Address'],axis=1),on='SoilMStation').drop('SoilMStation',axis=1)"
   ]
  },
  {
   "cell_type": "code",
   "execution_count": 11,
   "metadata": {},
   "outputs": [],
   "source": [
    "def distance(df):\n",
    "    lat1, lon1 = df['lat'], df['long']\n",
    "    distances = []\n",
    "    for i in range(len(ph_data_loc)):\n",
    "        lat2, lon2 = ph_data_loc['Latititude'][i],ph_data_loc['Longitude'][i]\n",
    "        radius = 6371 # km\n",
    "        dlat = math.radians(lat2-lat1)\n",
    "        dlon = math.radians(lon2-lon1)\n",
    "        a = math.sin(dlat/2) * math.sin(dlat/2) + math.cos(math.radians(lat1)) \\\n",
    "            * math.cos(math.radians(lat2)) * math.sin(dlon/2) * math.sin(dlon/2)\n",
    "        c = 2 * math.atan2(math.sqrt(a), math.sqrt(1-a))\n",
    "        d = radius * c\n",
    "        distances.append(d)\n",
    "    \n",
    "    stationno = ph_data_loc['SoilpHStation'][np.array(distances).argmin()]\n",
    "\n",
    "    return stationno"
   ]
  },
  {
   "cell_type": "code",
   "execution_count": 12,
   "metadata": {},
   "outputs": [],
   "source": [
    "subdist_data['SoilpHStation'] = subdist_data.apply(distance,axis=1)\n",
    "subdist_data = subdist_data.merge(ph_data_loc.drop(['State','District','Sub District','Latititude','Longitude','Address'],axis=1),on='SoilpHStation').drop('SoilpHStation',axis=1)"
   ]
  },
  {
   "cell_type": "code",
   "execution_count": null,
   "metadata": {},
   "outputs": [],
   "source": [
    "subdist_data['N_D'] = subdist_data['N_D'].apply(lambda x: x[0:-1])\n",
    "subdist_data['P_D'] = subdist_data['P_D'].apply(lambda x: x[0:-1])\n",
    "subdist_data['K_D'] = subdist_data['K_D'].apply(lambda x: x[0:-1])\n",
    "subdist_data['Zn_D'] = subdist_data['Zn_D'].apply(lambda x: x[0:-1])\n",
    "subdist_data['Fe_D'] = subdist_data['Fe_D'].apply(lambda x: x[0:-1])\n",
    "subdist_data['Cu_D'] = subdist_data['Cu_D'].apply(lambda x: x[0:-1])\n",
    "subdist_data['Mn_D'] = subdist_data['Mn_D'].apply(lambda x: x[0:-1])\n",
    "subdist_data['B_D'] = subdist_data['B_D'].apply(lambda x: x[0:-1])\n",
    "subdist_data['N_D'] = subdist_data['N_D'].astype(float)\n",
    "subdist_data['P_D'] = subdist_data['P_D'].astype(float)\n",
    "subdist_data['K_D'] = subdist_data['K_D'].astype(float)"
   ]
  },
  {
   "cell_type": "code",
   "execution_count": 25,
   "metadata": {},
   "outputs": [],
   "source": [
    "subdist_data['OC_D'] = subdist_data['OC_D'].apply(lambda x: x[0:-1])"
   ]
  },
  {
   "cell_type": "code",
   "execution_count": 28,
   "metadata": {},
   "outputs": [],
   "source": [
    "subdist_data = subdist_data.drop(['Zn_S','Fe_S','Cu_S','Mn_S','B_S'],axis=1)"
   ]
  },
  {
   "cell_type": "code",
   "execution_count": 37,
   "metadata": {},
   "outputs": [],
   "source": [
    "subdist_data.fillna(0).to_csv(r'C:\\Users\\Manan Arora\\Desktop\\AgriTech Project\\Data Driven Business Metrics Project\\Data\\Soil Data\\Soil_SubDist_AllData_New.csv',index=False)"
   ]
  }
 ],
 "metadata": {
  "kernelspec": {
   "display_name": "Python 3",
   "language": "python",
   "name": "python3"
  },
  "language_info": {
   "codemirror_mode": {
    "name": "ipython",
    "version": 3
   },
   "file_extension": ".py",
   "mimetype": "text/x-python",
   "name": "python",
   "nbconvert_exporter": "python",
   "pygments_lexer": "ipython3",
   "version": "3.7.6"
  }
 },
 "nbformat": 4,
 "nbformat_minor": 4
}
