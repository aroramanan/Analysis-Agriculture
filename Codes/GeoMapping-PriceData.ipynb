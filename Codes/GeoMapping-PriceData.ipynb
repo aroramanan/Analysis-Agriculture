{
 "cells": [
  {
   "cell_type": "markdown",
   "metadata": {},
   "source": [
    "#### Environment Set-up"
   ]
  },
  {
   "cell_type": "code",
   "execution_count": 1,
   "metadata": {},
   "outputs": [],
   "source": [
    "import pandas as pd\n",
    "import numpy as np\n",
    "import math"
   ]
  },
  {
   "cell_type": "markdown",
   "metadata": {},
   "source": [
    "#### Matching Sub-Districts to nearby Mandi Locations"
   ]
  },
  {
   "cell_type": "code",
   "execution_count": 2,
   "metadata": {},
   "outputs": [
    {
     "name": "stderr",
     "output_type": "stream",
     "text": [
      "C:\\Users\\Manan Arora\\anaconda3\\envs\\manan\\lib\\site-packages\\IPython\\core\\interactiveshell.py:3063: DtypeWarning: Columns (18) have mixed types.Specify dtype option on import or set low_memory=False.\n",
      "  interactivity=interactivity, compiler=compiler, result=result)\n"
     ]
    }
   ],
   "source": [
    "prices_d = pd.read_csv(r'C:\\Users\\Manan Arora\\Desktop\\AgriTech Project\\Data Driven Business Metrics Project\\Data\\Prices and Arrival\\Prices_Arrival_2013-18-002.csv')"
   ]
  },
  {
   "cell_type": "code",
   "execution_count": 3,
   "metadata": {},
   "outputs": [],
   "source": [
    "unique_markets = prices_d[['Market Center','Latitude','Longitude']].drop_duplicates().reset_index()"
   ]
  },
  {
   "cell_type": "code",
   "execution_count": 4,
   "metadata": {},
   "outputs": [],
   "source": [
    "subdist_d = pd.read_csv(r'C:\\Users\\Manan Arora\\Desktop\\AgriTech Project\\Data Driven Business Metrics Project\\FinalSubDistData\\Geolocation-SubDistricts.csv')"
   ]
  },
  {
   "cell_type": "code",
   "execution_count": 5,
   "metadata": {},
   "outputs": [],
   "source": [
    "def distance(df):\n",
    "    lat1, lon1 = df['lat'], df['long']\n",
    "    distances = []\n",
    "    for i in range(len(unique_markets)):\n",
    "        lat2, lon2 = unique_markets['Latitude'][i],unique_markets['Longitude'][i]\n",
    "        radius = 6371 # km\n",
    "        dlat = math.radians(lat2-lat1)\n",
    "        dlon = math.radians(lon2-lon1)\n",
    "        a = math.sin(dlat/2) * math.sin(dlat/2) + math.cos(math.radians(lat1)) \\\n",
    "            * math.cos(math.radians(lat2)) * math.sin(dlon/2) * math.sin(dlon/2)\n",
    "        c = 2 * math.atan2(math.sqrt(a), math.sqrt(1-a))\n",
    "        d = radius * c\n",
    "        distances.append(d)\n",
    "    \n",
    "    market_name = unique_markets['Market Center'][np.array(distances).argmin()]\n",
    "\n",
    "    return market_name"
   ]
  },
  {
   "cell_type": "code",
   "execution_count": 6,
   "metadata": {},
   "outputs": [],
   "source": [
    "subdist_d['Market Center'] = subdist_d.apply(distance,axis=1)\n",
    "market_subdist_mapping = subdist_d.merge(unique_markets,on=['Market Center')"
   ]
  },
  {
   "cell_type": "code",
   "execution_count": 14,
   "metadata": {},
   "outputs": [],
   "source": [
    "market_subdist_mapping = market_subdist_mapping.drop_duplicates(subset=['State','District','Sub-District']).drop('index',axis=1)"
   ]
  },
  {
   "cell_type": "code",
   "execution_count": 16,
   "metadata": {},
   "outputs": [],
   "source": [
    "market_subdist_mapping.to_csv(r'C:\\Users\\Manan Arora\\Desktop\\AgriTech Project\\Data Driven Business Metrics Project\\Data\\Prices and Arrival\\Market_SubDist_Map.csv',index=False)"
   ]
  }
 ],
 "metadata": {
  "kernelspec": {
   "display_name": "Python 3",
   "language": "python",
   "name": "python3"
  },
  "language_info": {
   "codemirror_mode": {
    "name": "ipython",
    "version": 3
   },
   "file_extension": ".py",
   "mimetype": "text/x-python",
   "name": "python",
   "nbconvert_exporter": "python",
   "pygments_lexer": "ipython3",
   "version": "3.7.6"
  }
 },
 "nbformat": 4,
 "nbformat_minor": 4
}
