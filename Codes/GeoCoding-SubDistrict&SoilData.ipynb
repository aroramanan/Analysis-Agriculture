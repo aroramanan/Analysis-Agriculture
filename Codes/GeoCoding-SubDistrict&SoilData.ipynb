{
 "cells": [
  {
   "cell_type": "markdown",
   "metadata": {},
   "source": [
    "#### Environment Setup"
   ]
  },
  {
   "cell_type": "code",
   "execution_count": 2,
   "metadata": {},
   "outputs": [],
   "source": [
    "import pandas as pd\n",
    "import numpy as np\n",
    "import requests\n",
    "import json\n",
    "from googlemaps import Client as GoogleMaps"
   ]
  },
  {
   "cell_type": "markdown",
   "metadata": {},
   "source": [
    "#### Load Data and get unique addresses of Sub-Districts in Cost of Cultivation Data"
   ]
  },
  {
   "cell_type": "code",
   "execution_count": null,
   "metadata": {},
   "outputs": [],
   "source": [
    "coc_data = pd.read_csv(r'C:\\Users\\Manan Arora\\Desktop\\AgriTech Project\\Data Driven Business Metrics Project\\Data\\Cost of Cultivation\\Cost of Cultivation_2005_2016.csv')\n",
    "coc_data['Address'] = coc_data['subdist_name'] + ', ' + coc_data['dist_name'] + ', ' +  coc_data['state_name']\n",
    "unique_addresses = coc_data[['Address']].drop_duplicates().reset_index()"
   ]
  },
  {
   "cell_type": "markdown",
   "metadata": {},
   "source": [
    "#### Using Google Maps API to find the Geocoordinates of the addresses"
   ]
  },
  {
   "cell_type": "code",
   "execution_count": null,
   "metadata": {},
   "outputs": [],
   "source": [
    "gmaps = GoogleMaps('API KEY REMOVED')\n",
    "unique_addresses['long'] = \"\"\n",
    "unique_addresses['lat'] = \"\"\n",
    "for x in range(len(unique_addresses)):\n",
    "    geocode_result = gmaps.geocode(unique_addresses['Address'][x])\n",
    "    unique_addresses['lat'][x] = geocode_result[0]['geometry']['location'] ['lat']\n",
    "    unique_addresses['long'][x] = geocode_result[0]['geometry']['location']['lng']"
   ]
  },
  {
   "cell_type": "code",
   "execution_count": null,
   "metadata": {},
   "outputs": [],
   "source": [
    "unique_addresses.to_csv(r'C:\\Users\\Manan Arora\\Desktop\\AgriTech Project\\Data Driven Business Metrics Project\\Data\\SubDist-Location.csv')"
   ]
  },
  {
   "cell_type": "markdown",
   "metadata": {},
   "source": [
    "#### Using Google Maps API to find the Geocoordinates of the Sub-Districts in Soil Data"
   ]
  },
  {
   "cell_type": "code",
   "execution_count": 3,
   "metadata": {},
   "outputs": [],
   "source": [
    "ph_data = pd.read_csv(r'C:\\Users\\Manan Arora\\Desktop\\AgriTech Project\\Data Driven Business Metrics Project\\Data\\Soil Data\\SoilpHValues_Aggregated.csv')\n",
    "macro_data = pd.read_csv(r'C:\\Users\\Manan Arora\\Desktop\\AgriTech Project\\Data Driven Business Metrics Project\\Data\\Soil Data\\SoilMacroNutrients_Aggregated.csv')"
   ]
  },
  {
   "cell_type": "code",
   "execution_count": 5,
   "metadata": {},
   "outputs": [],
   "source": [
    "ph_data['Address'] = ph_data['Sub District'] + ', ' + ph_data['District'] + ', ' +  ph_data['State']\n",
    "macro_data['Address'] = macro_data['Sub-District'] + ', ' + macro_data['District'] + ', ' +  macro_data['State']"
   ]
  },
  {
   "cell_type": "code",
   "execution_count": 6,
   "metadata": {},
   "outputs": [],
   "source": [
    "data = list(set(ph_data['Address'].tolist() + macro_data['Address'].tolist()))"
   ]
  },
  {
   "cell_type": "code",
   "execution_count": 12,
   "metadata": {},
   "outputs": [],
   "source": [
    "pd.DataFrame(data).to_csv(r'C:\\Users\\Manan Arora\\Desktop\\AgriTech Project\\Data Driven Business Metrics Project\\Data\\Soil Data\\Test.csv')"
   ]
  },
  {
   "cell_type": "code",
   "execution_count": null,
   "metadata": {},
   "outputs": [],
   "source": [
    "gmaps = GoogleMaps('Removed API')\n",
    "unique_lat = []\n",
    "unique_long = []\n",
    "for x in range(0,len(data)):\n",
    "    print(data[x])\n",
    "    geocode_result = gmaps.geocode(data[x])\n",
    "    unique_lat+=[geocode_result[0]['geometry']['location'] ['lat']]\n",
    "    unique_long+=[geocode_result[0]['geometry']['location']['lng']]"
   ]
  },
  {
   "cell_type": "code",
   "execution_count": null,
   "metadata": {},
   "outputs": [],
   "source": [
    "final = pd.DataFrame(data={'Address':data,'Latititude':unique_lat,'Longitude':unique_long})"
   ]
  },
  {
   "cell_type": "code",
   "execution_count": null,
   "metadata": {},
   "outputs": [],
   "source": [
    "final.to_csv(r'C:\\Users\\Manan Arora\\Desktop\\AgriTech Project\\Data Driven Business Metrics Project\\Data\\Soil Data\\AllSoilLocations-Geocoordinates.csv')"
   ]
  }
 ],
 "metadata": {
  "kernelspec": {
   "display_name": "Python 3",
   "language": "python",
   "name": "python3"
  },
  "language_info": {
   "codemirror_mode": {
    "name": "ipython",
    "version": 3
   },
   "file_extension": ".py",
   "mimetype": "text/x-python",
   "name": "python",
   "nbconvert_exporter": "python",
   "pygments_lexer": "ipython3",
   "version": "3.7.6"
  }
 },
 "nbformat": 4,
 "nbformat_minor": 4
}
