{
 "cells": [
  {
   "cell_type": "markdown",
   "metadata": {},
   "source": [
    "#### Environment Setup"
   ]
  },
  {
   "cell_type": "code",
   "execution_count": null,
   "metadata": {},
   "outputs": [],
   "source": [
    "from selenium.webdriver.support.ui import Select\n",
    "from selenium import webdriver\n",
    "from selenium.webdriver.common.by import By\n",
    "from selenium.webdriver.support.ui import WebDriverWait\n",
    "from selenium.webdriver.support import expected_conditions as EC\n",
    "from selenium.common.exceptions import TimeoutException\n",
    "import time\n",
    "import os,glob,shutil\n",
    "import pickle\n",
    "from selenium.webdriver.common.keys import Keys"
   ]
  },
  {
   "cell_type": "markdown",
   "metadata": {},
   "source": [
    "#### Crawl - Micro Nutrients Information at Sub District Level"
   ]
  },
  {
   "cell_type": "code",
   "execution_count": null,
   "metadata": {},
   "outputs": [],
   "source": [
    "BASE_DIR = r'C:\\Users\\Manan Arora\\Desktop\\AgriTech Project\\Data Driven Business Metrics Project\\Data\\Soil Data\\MicroNutrients'\n",
    "print(BASE_DIR)"
   ]
  },
  {
   "cell_type": "code",
   "execution_count": null,
   "metadata": {},
   "outputs": [],
   "source": [
    "chrome_path= r\"C:\\Users\\Manan Arora\\Documents\\chromedriver_win32\\chromedriver.exe\" \n",
    "chromeOptions = webdriver.ChromeOptions()\n",
    "prefs = {\"download.default_directory\" : BASE_DIR,'safebrowsing.enabled': 'false'}\n",
    "chromeOptions.add_experimental_option(\"prefs\",prefs)\n",
    "driver = webdriver.Chrome(executable_path=chrome_path, options=chromeOptions)"
   ]
  },
  {
   "cell_type": "code",
   "execution_count": null,
   "metadata": {},
   "outputs": [],
   "source": [
    "driver.get(\"https://soilhealth.dac.gov.in/PublicReports/DistrictMicroNS\")\n",
    "state_button = Select(driver.find_element_by_id('State_Code')) \n",
    "state_list = state_button.options\n",
    "for i in range(1,len(state_list)):\n",
    "    driver.get(\"https://soilhealth.dac.gov.in/PublicReports/DistrictMicroNS\")\n",
    "    state_button = Select(driver.find_element_by_id('State_Code')) \n",
    "    state_list = state_button.options\n",
    "    state_name = state_list[i].text\n",
    "    state_list[i].click()\n",
    "    time.sleep(3)\n",
    "    district_button = Select(driver.find_element_by_id('District_Code'))\n",
    "    district_list = district_button.options\n",
    "    district_names = [district_list[k].text for k in range(1,len(district_list))]\n",
    "    print('State Name: {} \\nDistrict Names: {}'.format(state_name,district_names))\n",
    "    for j in range(1,len(district_list)):\n",
    "        driver.get(\"https://soilhealth.dac.gov.in/PublicReports/DistrictMicroNS\")\n",
    "        state_button = Select(driver.find_element_by_id('State_Code')) \n",
    "        state_list = state_button.options\n",
    "        state_list[i].click()\n",
    "        time.sleep(2)\n",
    "        district_button = Select(driver.find_element_by_id('District_Code'))\n",
    "        district_list = district_button.options\n",
    "        district_list[j].click()\n",
    "        cycle_button = Select(driver.find_element_by_id('CycleId'))\n",
    "        cycle_button.options[1].click()\n",
    "        submit_button = driver.find_element_by_id('confirmLink')\n",
    "        submit_button.click()\n",
    "        time.sleep(5)\n",
    "        driver.switch_to.frame(driver.find_element_by_xpath('//*[@id=\"report\"]/iframe'))\n",
    "        try:\n",
    "            driver.find_element_by_link_text(district_names[j-1]).click()\n",
    "            time.sleep(5)\n",
    "            driver.find_element_by_id('ReportViewer1_ctl05_ctl04_ctl00_Button').click()\n",
    "            driver.find_element_by_xpath('/html/body/form/div[3]/span/div/table/tbody/tr[3]/td/div/div/div[4]/table/tbody/tr/td/div[2]/div[2]/a').click()\n",
    "        except:\n",
    "            continue"
   ]
  },
  {
   "cell_type": "markdown",
   "metadata": {},
   "source": [
    "#### Crawl - Macro Nutrients Information at Sub District Level"
   ]
  },
  {
   "cell_type": "code",
   "execution_count": null,
   "metadata": {},
   "outputs": [],
   "source": [
    "BASE_DIR = r'C:\\Users\\Manan Arora\\Desktop\\AgriTech Project\\Data Driven Business Metrics Project\\Data\\Soil Data\\MacroNutrients'\n",
    "print(BASE_DIR)"
   ]
  },
  {
   "cell_type": "code",
   "execution_count": null,
   "metadata": {},
   "outputs": [],
   "source": [
    "chrome_path= r\"C:\\Users\\Manan Arora\\Documents\\chromedriver_win32\\chromedriver.exe\" \n",
    "chromeOptions = webdriver.ChromeOptions()\n",
    "prefs = {\"download.default_directory\" : BASE_DIR,'safebrowsing.enabled': 'false'}\n",
    "chromeOptions.add_experimental_option(\"prefs\",prefs)\n",
    "driver = webdriver.Chrome(executable_path=chrome_path, options=chromeOptions)"
   ]
  },
  {
   "cell_type": "code",
   "execution_count": null,
   "metadata": {},
   "outputs": [],
   "source": [
    "driver.get(\"https://soilhealth.dac.gov.in/PublicReports/DistrictMacroNS\")\n",
    "state_button = Select(driver.find_element_by_id('State_Code')) \n",
    "state_list = state_button.options\n",
    "for i in range(1,len(state_list)):\n",
    "    driver.get(\"https://soilhealth.dac.gov.in/PublicReports/DistrictMacroNS\")\n",
    "    state_button = Select(driver.find_element_by_id('State_Code')) \n",
    "    state_list = state_button.options\n",
    "    state_name = state_list[i].text\n",
    "    state_list[i].click()\n",
    "    time.sleep(2)\n",
    "    cycle_button = Select(driver.find_element_by_id('CycleId'))\n",
    "    cycle_button.options[2].click()\n",
    "    submit_button = driver.find_element_by_id('confirmLink')\n",
    "    submit_button.click()\n",
    "    time.sleep(3)\n",
    "    driver.switch_to.frame(driver.find_element_by_xpath('//*[@id=\"report\"]/iframe'))\n",
    "    time.sleep(1)\n",
    "    districts = driver.find_elements_by_xpath('/html/body/form/div[3]/span/div/table/tbody/tr[4]/td[3]/div/div[1]/div/table/tbody/tr/td/table/tbody/tr[1]/td/table/tbody/tr/td/table/tbody/tr[3]/td/table/tbody/tr/td[3]/div/a')\n",
    "    print(len(districts))\n",
    "    district_names = [district.text for district in districts]\n",
    "    print('State Name: {} \\nDistrict Names: {}'.format(state_name,district_names))\n",
    "    for k in range(0,len(district_names)):\n",
    "        driver.get(\"https://soilhealth.dac.gov.in/PublicReports/DistrictMacroNS\")\n",
    "        state_button = Select(driver.find_element_by_id('State_Code')) \n",
    "        state_list = state_button.options\n",
    "        state_name = state_list[i].text\n",
    "        state_list[i].click()\n",
    "        time.sleep(2)\n",
    "        cycle_button = Select(driver.find_element_by_id('CycleId'))\n",
    "        cycle_button.options[2].click()\n",
    "        submit_button = driver.find_element_by_id('confirmLink')\n",
    "        submit_button.click()\n",
    "        time.sleep(3)\n",
    "        driver.switch_to.frame(driver.find_element_by_xpath('//*[@id=\"report\"]/iframe'))\n",
    "        time.sleep(1)\n",
    "        districts = driver.find_elements_by_xpath('/html/body/form/div[3]/span/div/table/tbody/tr[4]/td[3]/div/div[1]/div/table/tbody/tr/td/table/tbody/tr[1]/td/table/tbody/tr/td/table/tbody/tr[3]/td/table/tbody/tr/td[3]/div/a')\n",
    "        districts[k].click()\n",
    "        time.sleep(3)\n",
    "        driver.find_element_by_id('ReportViewer1_ctl05_ctl04_ctl00_Button').click()\n",
    "        driver.find_element_by_xpath('/html/body/form/div[3]/span/div/table/tbody/tr[3]/td/div/div/div[4]/table/tbody/tr/td/div[2]/div[2]/a').click()"
   ]
  },
  {
   "cell_type": "markdown",
   "metadata": {},
   "source": [
    "#### Crawl - pH Values Information at Sub District Level"
   ]
  },
  {
   "cell_type": "code",
   "execution_count": null,
   "metadata": {},
   "outputs": [],
   "source": [
    "BASE_DIR = r'C:\\Users\\Manan Arora\\Desktop\\AgriTech Project\\Data Driven Business Metrics Project\\Soil Data\\pHValues'\n",
    "print(BASE_DIR)"
   ]
  },
  {
   "cell_type": "code",
   "execution_count": null,
   "metadata": {},
   "outputs": [],
   "source": [
    "chrome_path= r\"C:\\Users\\Manan Arora\\Documents\\chromedriver_win32\\chromedriver.exe\" \n",
    "chromeOptions = webdriver.ChromeOptions()\n",
    "prefs = {\"download.default_directory\" : BASE_DIR,'safebrowsing.enabled': 'false'}\n",
    "chromeOptions.add_experimental_option(\"prefs\",prefs)\n",
    "driver = webdriver.Chrome(executable_path=chrome_path, options=chromeOptions)"
   ]
  },
  {
   "cell_type": "code",
   "execution_count": null,
   "metadata": {},
   "outputs": [],
   "source": [
    "driver.get(\"https://soilhealth.dac.gov.in/PublicReports/DistricPHPercentagewise\")\n",
    "state_button = Select(driver.find_element_by_id('State_Code')) \n",
    "state_list = state_button.options\n",
    "for i in range(1,len(state_list)):\n",
    "    driver.get(\"https://soilhealth.dac.gov.in/PublicReports/DistrictMicroNS\")\n",
    "    state_button = Select(driver.find_element_by_id('State_Code')) \n",
    "    state_list = state_button.options\n",
    "    state_name = state_list[i].text\n",
    "    state_list[i].click()\n",
    "    time.sleep(3)\n",
    "    district_button = Select(driver.find_element_by_id('District_Code'))\n",
    "    district_list = district_button.options\n",
    "    district_names = [district_list[k].text for k in range(1,len(district_list))]\n",
    "    print('State Name: {} \\nDistrict Names: {}'.format(state_name,district_names))\n",
    "    for j in range(1,len(district_list)):\n",
    "        driver.get(\"https://soilhealth.dac.gov.in/PublicReports/DistricPHPercentagewise\")\n",
    "        state_button = Select(driver.find_element_by_id('State_Code')) \n",
    "        state_list = state_button.options\n",
    "        state_list[i].click()\n",
    "        time.sleep(2)\n",
    "        district_button = Select(driver.find_element_by_id('District_Code'))\n",
    "        district_list = district_button.options\n",
    "        district_list[j].click()\n",
    "        cycle_button = Select(driver.find_element_by_id('CycleId'))\n",
    "        cycle_button.options[1].click()\n",
    "        nutrient_button = Select(driver.find_element_by_id('Nutrient'))\n",
    "        nutrient_button.options[1].click()\n",
    "        submit_button = driver.find_element_by_id('confirmLink')\n",
    "        submit_button.click()\n",
    "        time.sleep(5)\n",
    "        driver.switch_to.frame(driver.find_element_by_xpath('//*[@id=\"report\"]/iframe'))\n",
    "        try:\n",
    "            driver.find_element_by_link_text(district_names[j-1]).click()\n",
    "            time.sleep(5)\n",
    "            driver.find_element_by_id('ReportViewer1_ctl05_ctl04_ctl00_Button').click()\n",
    "            driver.find_element_by_xpath('/html/body/form/div[3]/span/div/table/tbody/tr[3]/td/div/div/div[4]/table/tbody/tr/td/div[2]/div[2]/a').click()\n",
    "        except:\n",
    "            continue"
   ]
  }
 ],
 "metadata": {
  "kernelspec": {
   "display_name": "Python 3",
   "language": "python",
   "name": "python3"
  },
  "language_info": {
   "codemirror_mode": {
    "name": "ipython",
    "version": 3
   },
   "file_extension": ".py",
   "mimetype": "text/x-python",
   "name": "python",
   "nbconvert_exporter": "python",
   "pygments_lexer": "ipython3",
   "version": "3.7.6"
  }
 },
 "nbformat": 4,
 "nbformat_minor": 4
}
