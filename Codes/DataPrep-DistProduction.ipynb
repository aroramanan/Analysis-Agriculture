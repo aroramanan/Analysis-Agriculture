{
 "cells": [
  {
   "cell_type": "code",
   "execution_count": 1,
   "metadata": {},
   "outputs": [],
   "source": [
    "#### Environment Setup"
   ]
  },
  {
   "cell_type": "code",
   "execution_count": 2,
   "metadata": {},
   "outputs": [],
   "source": [
    "import fiona\n",
    "import mpl_toolkits\n",
    "import pandas as pd\n",
    "import itertools\n",
    "import geopandas as gpd\n",
    "import json\n",
    "from shapely.geometry import Polygon, Point, MultiPoint, MultiPolygon, shape, mapping\n",
    "from shapely.prepared import prep\n",
    "from shapely.ops import unary_union\n",
    "import itertools"
   ]
  },
  {
   "cell_type": "code",
   "execution_count": 3,
   "metadata": {},
   "outputs": [],
   "source": [
    "#### Loading Datasets"
   ]
  },
  {
   "cell_type": "code",
   "execution_count": 4,
   "metadata": {},
   "outputs": [],
   "source": [
    "apy_db = pd.read_csv(r'C:/Users/Manan Arora/Desktop/AgriTech/Data Driven Business Metrics Project/Data/APY/APY_13_14_to_17_18.csv')\n",
    "dist_shp = gpd.read_file(r\"C:\\Users\\Manan Arora\\Desktop\\AgriTech\\Data Driven Business Metrics Project\\Data\\Shapefiles\\District\\2011_dist.shp\")"
   ]
  },
  {
   "cell_type": "code",
   "execution_count": 5,
   "metadata": {},
   "outputs": [],
   "source": [
    "##### Crop Category Wise Production in Each District\n",
    "cat_wise_prod_dist = apy_db.groupby(['State_name','District_name','Crop_category'],sort=True).agg({'Production':'sum'}).reset_index()\n",
    "cat_wise_prod_dist.rename(columns={'Production':'Total_Production'},inplace=True)\n",
    "cat_wise_prod_dist = cat_wise_prod_dist.pivot_table(index=['State_name','District_name'],columns='Crop_category',values='Total_Production',aggfunc='sum').reset_index()"
   ]
  },
  {
   "cell_type": "code",
   "execution_count": 8,
   "metadata": {},
   "outputs": [],
   "source": [
    "#### Top Crop in Each District  \n",
    "top_crop_dist = apy_db.groupby(['State_name','District_name','Crop_category','Crop_code','Crop_name'],sort=True).agg({'Production':'sum'}).reset_index()\n",
    "top_crop_dist = top_crop_dist.set_index(['Crop_code','Crop_name']).groupby(['State_name','District_name','Crop_category'])['Production'].nlargest(1).reset_index()\n",
    "top_crop_dist.rename(columns={'Production':'Crop_Production'},inplace=True)"
   ]
  },
  {
   "cell_type": "code",
   "execution_count": 9,
   "metadata": {},
   "outputs": [],
   "source": [
    "#### Top Crop Name and Production in Each District \n",
    "top_cropname_dist = top_crop_dist.set_index(['State_name','District_name','Crop_category'])['Crop_name'].unstack().reset_index()\n",
    "top_cropprod_dist = top_crop_dist.pivot_table(index=['State_name','District_name'],columns='Crop_category',values='Crop_Production',aggfunc='sum').reset_index()"
   ]
  },
  {
   "cell_type": "code",
   "execution_count": 10,
   "metadata": {},
   "outputs": [],
   "source": [
    "#### Renaming Columns - TP- Total Production, TCP - Top Crop Production, TC - Top Crop Name\n",
    "cat_wise_prod_dist = cat_wise_prod_dist.rename(columns={'Cereals':'CerealTP','Drug and Narcotics':'DrugsTP','Dry Fruits':'DryFruTP','Fiber Crop':'FiberTP','Fruits':'FruitsTP','Oilseeds':'OilTP','Pulses':'PulsesTP','Spices':'SpicesTP','Sugar':'SugarTP','Vegetables':'VegeTP'}).fillna(0)\n",
    "top_cropname_dist = top_cropname_dist.rename(columns={'Cereals':'CerealTC','Drug and Narcotics':'DrugsTC','Dry Fruits':'DryFruTC','Fiber Crop':'FiberTC','Fruits':'FruitsTC','Oilseeds':'OilTC','Pulses':'PulsesTC','Spices':'SpicesTC','Sugar':'SugarTC','Vegetables':'VegeTC'}).fillna('Category Not Grown Here')\n",
    "top_cropprod_dist = top_cropprod_dist.rename(columns={'Cereals':'CerealCP','Drug and Narcotics':'DrugsCP','Dry Fruits':'DryFruCP','Fiber Crop':'FiberCP','Fruits':'FruitsCP','Oilseeds':'OilCP','Pulses':'PulsesCP','Spices':'SpicesCP','Sugar':'SugarCP','Vegetables':'VegeCP'}).fillna(0)"
   ]
  },
  {
   "cell_type": "code",
   "execution_count": 9,
   "metadata": {},
   "outputs": [],
   "source": [
    "#### Merging all datasets\n",
    "dist_data = cat_wise_prod_dist.merge(top_cropname_dist,on=['State_name','District_name']).merge(top_cropprod_dist,on=['State_name','District_name'])"
   ]
  },
  {
   "cell_type": "code",
   "execution_count": 10,
   "metadata": {},
   "outputs": [],
   "source": [
    "##### Calculation Percentage Contribution of the District to Overall Production of that Category in the Country\n",
    "dist_data['CerealTPP'] = (dist_data['CerealTP']/sum(dist_data['CerealTP']))*100\n",
    "dist_data['DrugsTPP'] = (dist_data['DrugsTP']/sum(dist_data['DrugsTP']))*100\n",
    "dist_data['DryFruTPP'] = (dist_data['DryFruTP']/sum(dist_data['DryFruTP']))*100\n",
    "dist_data['FiberTPP'] = (dist_data['FiberTP']/sum(dist_data['FiberTP']))*100\n",
    "dist_data['FruitsTPP'] = (dist_data['FruitsTP']/sum(dist_data['FruitsTP']))*100\n",
    "dist_data['OilTPP'] = (dist_data['OilTP']/sum(dist_data['OilTP']))*100\n",
    "dist_data['PulsesTPP'] = (dist_data['PulsesTP']/sum(dist_data['PulsesTP']))*100\n",
    "dist_data['SpicesTPP'] = (dist_data['SpicesTP']/sum(dist_data['SpicesTP']))*100\n",
    "dist_data['SugarTPP'] = (dist_data['SugarTP']/sum(dist_data['SugarTP']))*100\n",
    "dist_data['VegeTPP'] = (dist_data['VegeTP']/sum(dist_data['VegeTP']))*100"
   ]
  },
  {
   "cell_type": "code",
   "execution_count": 11,
   "metadata": {},
   "outputs": [],
   "source": [
    "##### Calculation Percentage Contribution of the Top Crop in a Category to Overall Production of that Category in that District\n",
    "dist_data['CerealCPP'] = (dist_data['CerealCP']/dist_data['CerealTP'])*100\n",
    "dist_data['DrugsCPP'] = (dist_data['DrugsCP']/dist_data['DrugsTP'])*100\n",
    "dist_data['DryFruCPP'] = (dist_data['DryFruCP']/dist_data['DryFruTP'])*100\n",
    "dist_data['FiberCPP'] = (dist_data['FiberCP']/dist_data['FiberTP'])*100\n",
    "dist_data['FruitsCPP'] = (dist_data['FruitsCP']/dist_data['FruitsTP'])*100\n",
    "dist_data['OilCPP'] = (dist_data['OilCP']/dist_data['OilTP'])*100\n",
    "dist_data['PulsesCPP'] = (dist_data['PulsesCP']/dist_data['PulsesTP'])*100\n",
    "dist_data['SpicesCPP'] = (dist_data['SpicesCP']/dist_data['SpicesTP'])*100\n",
    "dist_data['SugarCPP'] = (dist_data['SugarCP']/dist_data['SugarTP'])*100\n",
    "dist_data['VegeCPP'] = (dist_data['VegeCP']/dist_data['VegeTP'])*100"
   ]
  },
  {
   "cell_type": "code",
   "execution_count": 12,
   "metadata": {},
   "outputs": [],
   "source": [
    "#### Renaming Columns to Match the Information \n",
    "dist_data.rename(columns={'State_name':'ST_NM','District_name':'DISTRICT'},inplace=True)"
   ]
  },
  {
   "cell_type": "code",
   "execution_count": 13,
   "metadata": {},
   "outputs": [],
   "source": [
    "all_dist_data = dist_shp.merge(dist_data,on=['ST_NM','DISTRICT'],how='left')\n",
    "all_dist_data.fillna(0,inplace=True)"
   ]
  },
  {
   "cell_type": "code",
   "execution_count": 14,
   "metadata": {},
   "outputs": [],
   "source": [
    "for index in range(len(all_dist_data)):\n",
    "    try:\n",
    "        all_dist_data.loc[index,'geometry'] = Polygon(all_dist_data.loc[index,'geometry'][0])\n",
    "    except:\n",
    "        all_dist_data.loc[index,'geometry'] = all_dist_data.loc[index,'geometry']"
   ]
  },
  {
   "cell_type": "code",
   "execution_count": 15,
   "metadata": {},
   "outputs": [],
   "source": [
    "all_dist_data.to_file(driver = 'ESRI Shapefile', filename= r\"C:\\Users\\Manan Arora\\Desktop\\AgriTech\\Visualizations\\India Shapes\\India_Agri_Data.shp\")"
   ]
  },
  {
   "cell_type": "code",
   "execution_count": 16,
   "metadata": {},
   "outputs": [],
   "source": [
    "state_data = gpd.read_file(r\"C:\\Users\\Manan Arora\\Desktop\\AgriTech\\Data Driven Business Metrics Project\\Data\\Shapefiles\\State\\Admin2.shp\")"
   ]
  },
  {
   "cell_type": "code",
   "execution_count": 17,
   "metadata": {},
   "outputs": [],
   "source": [
    "for index in range(len(state_data)):\n",
    "    try:\n",
    "        state_data.loc[index,'geometry'] = Polygon(state_data.loc[index,'geometry'][0])\n",
    "    except:\n",
    "        state_data.loc[index,'geometry'] = state_data.loc[index,'geometry']"
   ]
  },
  {
   "cell_type": "code",
   "execution_count": 18,
   "metadata": {},
   "outputs": [],
   "source": [
    "state_data.to_file(driver = 'ESRI Shapefile', filename= r\"C:\\Users\\Manan Arora\\Desktop\\AgriTech\\Visualizations\\India Shapes\\India_Agri_State_Data.shp\")"
   ]
  }
 ],
 "metadata": {
  "kernelspec": {
   "display_name": "Python 3",
   "language": "python",
   "name": "python3"
  },
  "language_info": {
   "codemirror_mode": {
    "name": "ipython",
    "version": 3
   },
   "file_extension": ".py",
   "mimetype": "text/x-python",
   "name": "python",
   "nbconvert_exporter": "python",
   "pygments_lexer": "ipython3",
   "version": "3.7.6"
  }
 },
 "nbformat": 4,
 "nbformat_minor": 4
}
