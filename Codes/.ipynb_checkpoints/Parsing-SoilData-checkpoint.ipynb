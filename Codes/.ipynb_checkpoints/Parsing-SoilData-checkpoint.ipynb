{
 "cells": [
  {
   "cell_type": "markdown",
   "metadata": {},
   "source": [
    "#### Environment Setup"
   ]
  },
  {
   "cell_type": "code",
   "execution_count": null,
   "metadata": {},
   "outputs": [],
   "source": [
    "import pandas as pd\n",
    "import numpy as np\n",
    "from glob import iglob"
   ]
  },
  {
   "cell_type": "markdown",
   "metadata": {},
   "source": [
    "#### Parsing Soil Micro Nutrient Files at Sub District Level"
   ]
  },
  {
   "cell_type": "code",
   "execution_count": null,
   "metadata": {},
   "outputs": [],
   "source": [
    "soil_df = pd.DataFrame(columns={'State','District','Sub-District','Zn_S','Zn_D','Fe_S','Fe_D','Cu_S','Cu_D','Mn_S','Mn_D','B_S','B_D'})\n",
    "soil_df = soil_df[['State','District','Sub-District','Zn_S','Zn_D','Fe_S','Fe_D','Cu_S','Cu_D','Mn_S','Mn_D','B_S','B_D']]\n",
    "base_path = r'C:\\Users\\Manan Arora\\Desktop\\AgriTech Project\\Data Driven Business Metrics Project\\Data\\Soil Data\\MicroNutrients\\*.xlsx'\n",
    "for file_path in iglob(base_path, recursive=True):\n",
    "    location = pd.read_excel(file_path,nrows=1, header=None)\n",
    "    state, district = tuple(location[0][0].split('-')[1].split(','))\n",
    "    state = state.strip()\n",
    "    district = district.replace('Cycle','').strip()\n",
    "    data = pd.read_excel(file_path,skiprows=5, header=None).drop(0,axis=1)\n",
    "    data['State'] = state\n",
    "    data['District'] = district\n",
    "    data = data.rename(columns = {1:'Sub-District',2:'Zn_S',3:'Zn_D',4:'Fe_S',5:'Fe_D',6:'Cu_S',7:'Cu_D',8:'Mn_S',9:'Mn_D',10:'B_S',11:'B_D'})\n",
    "    data = data[['State','District','Sub-District','Zn_S','Zn_D','Fe_S','Fe_D','Cu_S','Cu_D','Mn_S','Mn_D','B_S','B_D']]\n",
    "    soil_df = soil_df.append(data,ignore_index=True)\n",
    "    soil_df = soil_df.drop_duplicates().sort_values(['State','District','Sub-District'])"
   ]
  },
  {
   "cell_type": "code",
   "execution_count": null,
   "metadata": {},
   "outputs": [],
   "source": [
    "soil_df.to_csv(r'C:\\Users\\Manan Arora\\Desktop\\AgriTech Project\\Data Driven Business Metrics Project\\Data\\Soil Data\\SoilMicroNutrients_Aggregated.csv')"
   ]
  },
  {
   "cell_type": "markdown",
   "metadata": {},
   "source": [
    "#### Parsing Soil Macro Nutrient Files at Sub District Level"
   ]
  },
  {
   "cell_type": "code",
   "execution_count": null,
   "metadata": {},
   "outputs": [],
   "source": [
    "soil_df = pd.DataFrame(columns={'State','District','Sub-District','N_D','OC_D','P_D','K_D'})\n",
    "soil_df = soil_df[['State','District','Sub-District','N_D','OC_D','P_D','K_D']]\n",
    "base_path = r'C:\\Users\\Manan Arora\\Desktop\\AgriTech Project\\Data Driven Business Metrics Project\\Data\\Soil Data\\MacroNutrients\\*.xlsx'\n",
    "for file_path in iglob(base_path, recursive=True):\n",
    "    location = pd.read_excel(file_path,nrows=1, header=None)\n",
    "    state, district = tuple(location[0][0].split('-')[1].split(','))\n",
    "    state = state.strip()\n",
    "    district = district.replace('Cycle','').strip()\n",
    "    data = pd.read_excel(file_path,skiprows=4, header=None).drop(0,axis=1)\n",
    "    data['State'] = state\n",
    "    data['District'] = district\n",
    "    data = data.rename(columns = {1:'Sub-District',2:'N_D',3:'OC_D',4:'P_D',5:'K_D'})\n",
    "    data = data[['State','District','Sub-District','N_D','OC_D','P_D','K_D']]\n",
    "    soil_df = soil_df.append(data,ignore_index=True)\n",
    "    soil_df = soil_df.drop_duplicates().sort_values(['State','District','Sub-District'])"
   ]
  },
  {
   "cell_type": "code",
   "execution_count": null,
   "metadata": {},
   "outputs": [],
   "source": [
    "soil_df.to_csv(r'C:\\Users\\Manan Arora\\Desktop\\AgriTech Project\\Data Driven Business Metrics Project\\Data\\Soil Data\\SoilMacroNutrients_Aggregated.csv')"
   ]
  },
  {
   "cell_type": "markdown",
   "metadata": {},
   "source": [
    "#### Parsing Soil pH Value Files at Sub District Level"
   ]
  },
  {
   "cell_type": "code",
   "execution_count": null,
   "metadata": {},
   "outputs": [],
   "source": [
    "soil_df = pd.DataFrame(columns={'State','District','Sub District','AS%','SrAc%','HAc%','MAc%','SlAc%','N%','MAl%','SlAl%'})\n",
    "soil_df = soil_df[['State','District','Sub District','AS%','SrAc%','HAc%','MAc%','SlAc%','N%','MAl%','SlAl%']]\n",
    "base_path = r'C:\\Users\\Manan Arora\\Desktop\\AgriTech Project\\Data Driven Business Metrics Project\\Data\\Soil Data\\pHValues\\*.xlsx'\n",
    "for file_path in iglob(base_path, recursive=True):\n",
    "    location = pd.read_excel(file_path,nrows=1, header=None)\n",
    "    state, district = tuple(location[0][0].split('-')[1].split(','))\n",
    "    state = state.strip()\n",
    "    district = district.replace('Cycle','').strip()\n",
    "    data = pd.read_excel(file_path,skiprows=2).drop('Sl. No.',axis=1)\n",
    "    data['State'] = state\n",
    "    data['District'] = district\n",
    "    data = data[['State','District','Sub District','AS%','SrAc%','HAc%','MAc%','SlAc%','N%','MAl%','SlAl%']]\n",
    "    soil_df = soil_df.append(data,ignore_index=True)\n",
    "    soil_df = soil_df.drop_duplicates().sort_values(['State','District','Sub District']).dropna(subset=['Sub District'])"
   ]
  },
  {
   "cell_type": "code",
   "execution_count": null,
   "metadata": {},
   "outputs": [],
   "source": [
    "soil_df.to_csv(r'C:\\Users\\Manan Arora\\Desktop\\AgriTech Project\\Data Driven Business Metrics Project\\Data\\Soil Data\\SoilpHValues_Aggregated.csv')"
   ]
  }
 ],
 "metadata": {
  "kernelspec": {
   "display_name": "Python 3",
   "language": "python",
   "name": "python3"
  },
  "language_info": {
   "codemirror_mode": {
    "name": "ipython",
    "version": 3
   },
   "file_extension": ".py",
   "mimetype": "text/x-python",
   "name": "python",
   "nbconvert_exporter": "python",
   "pygments_lexer": "ipython3",
   "version": "3.7.6"
  }
 },
 "nbformat": 4,
 "nbformat_minor": 4
}
