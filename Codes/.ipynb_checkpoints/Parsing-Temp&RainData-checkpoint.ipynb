{
 "cells": [
  {
   "cell_type": "markdown",
   "metadata": {},
   "source": [
    "#### Environment Setup"
   ]
  },
  {
   "cell_type": "code",
   "execution_count": 1,
   "metadata": {},
   "outputs": [],
   "source": [
    "import pandas as pd\n",
    "import numpy as np\n",
    "import imdlib as imd\n",
    "import os\n",
    "from glob import iglob\n",
    "import rasterio"
   ]
  },
  {
   "cell_type": "markdown",
   "metadata": {},
   "source": [
    "#### Rain Data Path"
   ]
  },
  {
   "cell_type": "code",
   "execution_count": 2,
   "metadata": {},
   "outputs": [],
   "source": [
    "base_path = r'C:\\Users\\Manan Arora\\Desktop\\AgriTech Project\\Data Driven Business Metrics Project\\Data\\Weather\\Rainfall'"
   ]
  },
  {
   "cell_type": "markdown",
   "metadata": {},
   "source": [
    "#### Rain Data Conversion Function"
   ]
  },
  {
   "cell_type": "code",
   "execution_count": 3,
   "metadata": {},
   "outputs": [],
   "source": [
    "def rain_data_process(base_path,year):\n",
    "    \n",
    "    ##read file\n",
    "    fname = base_path + '\\ind{}_rfp25.GRD'.format(year)\n",
    "    if np.fromfile(fname).shape[0] == 3178237:\n",
    "        data = np.fromfile(fname,np.dtype((np.float32,(135,129))),365)\n",
    "    else:\n",
    "        data = np.fromfile(fname,np.dtype((np.float32,(135,129))),366)\n",
    "    \n",
    "    #geocordinates decieded as per IMD website\n",
    "    rain_lat = np.arange(6.5,38.75,0.25)\n",
    "    rain_long = np.arange(66.5,100.25,0.25)\n",
    "    \n",
    "    ###create combination on the geocoordinates \n",
    "    long_rows = []\n",
    "    lat_rows = []\n",
    "    for long in rain_long:\n",
    "        for lat in rain_lat:\n",
    "            long_rows+=[str(long)+'E']\n",
    "            lat_rows+=[str(lat)+'N']\n",
    "    \n",
    "    ###prepare columns for each day of the year\n",
    "    date_columns = pd.date_range('01/01/{}'.format(year),'31/12/{}'.format(year)).strftime(date_format=\"%Y-%m-%d\").tolist()                      \n",
    "    ###organise data in dictionary for each day and each location\n",
    "    records = dict()\n",
    "    records['Latitude'] = lat_rows\n",
    "    records['Longitude'] = long_rows\n",
    "    for i in range(0,len(date_columns)):\n",
    "        for j in range(0,len(rain_long)):\n",
    "            for k in range(0,len(rain_lat)):\n",
    "                records.setdefault(date_columns[i], []).append(data[i][j][k])\n",
    "    \n",
    "    ###convert to dataframe and replace unkonwn values with 0\n",
    "    rain_dat = pd.DataFrame(records)\n",
    "    rain_dat.replace(-999.0,np.nan,inplace=True)\n",
    "                                 \n",
    "    ###calculate monthly averages for the specified year\n",
    "    jan_col = [col for col in rain_dat.columns if col.startswith('{}-01'.format(year))]\n",
    "    feb_col = [col for col in rain_dat.columns if col.startswith('{}-02'.format(year))]\n",
    "    mar_col = [col for col in rain_dat.columns if col.startswith('{}-03'.format(year))]\n",
    "    apr_col = [col for col in rain_dat.columns if col.startswith('{}-04'.format(year))]\n",
    "    may_col = [col for col in rain_dat.columns if col.startswith('{}-05'.format(year))]\n",
    "    jun_col = [col for col in rain_dat.columns if col.startswith('{}-06'.format(year))]\n",
    "    jul_col = [col for col in rain_dat.columns if col.startswith('{}-07'.format(year))]\n",
    "    aug_col = [col for col in rain_dat.columns if col.startswith('{}-08'.format(year))]\n",
    "    sep_col = [col for col in rain_dat.columns if col.startswith('{}-09'.format(year))]\n",
    "    oct_col = [col for col in rain_dat.columns if col.startswith('{}-10'.format(year))]\n",
    "    nov_col = [col for col in rain_dat.columns if col.startswith('{}-11'.format(year))]\n",
    "    dec_col = [col for col in rain_dat.columns if col.startswith('{}-12'.format(year))]\n",
    "                                 \n",
    "    sum_jan = rain_dat[jan_col].sum(axis=1)\n",
    "    sum_feb = rain_dat[feb_col].sum(axis=1)\n",
    "    sum_mar = rain_dat[mar_col].sum(axis=1)\n",
    "    sum_apr = rain_dat[apr_col].sum(axis=1)\n",
    "    sum_may = rain_dat[may_col].sum(axis=1)\n",
    "    sum_jun = rain_dat[jun_col].sum(axis=1)\n",
    "    sum_jul = rain_dat[jul_col].sum(axis=1)\n",
    "    sum_aug = rain_dat[aug_col].sum(axis=1)\n",
    "    sum_sep = rain_dat[sep_col].sum(axis=1)\n",
    "    sum_oct = rain_dat[oct_col].sum(axis=1)\n",
    "    sum_nov = rain_dat[nov_col].sum(axis=1)\n",
    "    sum_dec = rain_dat[dec_col].sum(axis=1)\n",
    "    \n",
    "    ###convert to dataframe\n",
    "    final_rain_data = pd.DataFrame(data={'Longitude':long_rows,'Latitude':lat_rows,'R_Sum_Jan{}'.format(year):sum_jan,'R_Sum_Feb{}'.format(year):sum_feb,\n",
    "                   'R_Sum_Mar{}'.format(year):sum_mar,'R_Sum_Apr{}'.format(year):sum_apr,'R_Sum_May{}'.format(year):sum_may,\n",
    "                   'R_Sum_Jun{}'.format(year):sum_jun,'R_Sum_Jul{}'.format(year):sum_jul,'R_Sum_Aug{}'.format(year):sum_aug,\n",
    "                   'R_Sum_Sep{}'.format(year):sum_sep,'R_Sum_Oct{}'.format(year):sum_oct,'R_Sum_Nov{}'.format(year):sum_nov,\n",
    "                   'R_Sum_Dec{}'.format(year):sum_dec})\n",
    "    ###save as csv\n",
    "    final_rain_data.to_csv(r'C:\\Users\\Manan Arora\\Desktop\\AgriTech Project\\Data Driven Business Metrics Project\\Data\\Weather\\Rainfall_MonthlyTotal\\MonthlyTotal_{}.csv'.format(year))\n",
    "                                 \n",
    "    print('Reading and converting rainfall data to monthly total per location for {} is complete'.format(year))"
   ]
  },
  {
   "cell_type": "markdown",
   "metadata": {},
   "source": [
    "#### Executing the Function"
   ]
  },
  {
   "cell_type": "code",
   "execution_count": 4,
   "metadata": {},
   "outputs": [
    {
     "name": "stdout",
     "output_type": "stream",
     "text": [
      "Reading and converting rainfall data to monthly total per location for 2000 is complete\n",
      "Reading and converting rainfall data to monthly total per location for 2001 is complete\n",
      "Reading and converting rainfall data to monthly total per location for 2002 is complete\n",
      "Reading and converting rainfall data to monthly total per location for 2003 is complete\n",
      "Reading and converting rainfall data to monthly total per location for 2004 is complete\n",
      "Reading and converting rainfall data to monthly total per location for 2005 is complete\n",
      "Reading and converting rainfall data to monthly total per location for 2006 is complete\n",
      "Reading and converting rainfall data to monthly total per location for 2007 is complete\n",
      "Reading and converting rainfall data to monthly total per location for 2008 is complete\n",
      "Reading and converting rainfall data to monthly total per location for 2009 is complete\n",
      "Reading and converting rainfall data to monthly total per location for 2010 is complete\n",
      "Reading and converting rainfall data to monthly total per location for 2011 is complete\n",
      "Reading and converting rainfall data to monthly total per location for 2012 is complete\n",
      "Reading and converting rainfall data to monthly total per location for 2013 is complete\n",
      "Reading and converting rainfall data to monthly total per location for 2014 is complete\n",
      "Reading and converting rainfall data to monthly total per location for 2015 is complete\n",
      "Reading and converting rainfall data to monthly total per location for 2016 is complete\n",
      "Reading and converting rainfall data to monthly total per location for 2017 is complete\n"
     ]
    }
   ],
   "source": [
    "years = list(range(2000,2018,1))\n",
    "years = ['{}'.format(year) for year in years]\n",
    "for year in years: \n",
    "    rain_data_process(base_path,year)"
   ]
  },
  {
   "cell_type": "markdown",
   "metadata": {},
   "source": [
    "#### Temperature Data Path"
   ]
  },
  {
   "cell_type": "code",
   "execution_count": 12,
   "metadata": {},
   "outputs": [],
   "source": [
    "base_path = r'C:\\Users\\Manan Arora\\Desktop\\AgriTech Project\\Data Driven Business Metrics Project\\Data\\Weather\\Temperature\\AverageT'"
   ]
  },
  {
   "cell_type": "markdown",
   "metadata": {},
   "source": [
    "#### Temperate Data Conversion Function"
   ]
  },
  {
   "cell_type": "code",
   "execution_count": 13,
   "metadata": {},
   "outputs": [],
   "source": [
    "def temp_data_process(base_path,year):\n",
    "    \n",
    "    ##read file\n",
    "    fname = base_path + '\\{}.GRD'.format(year)\n",
    "    if np.fromfile(fname).shape[0] == 175382:\n",
    "        data = np.fromfile(fname,np.dtype((np.float32,(31,31))),365)\n",
    "    else:\n",
    "        data = np.fromfile(fname,np.dtype((np.float32,(31,31))),366)\n",
    "    \n",
    "    #geocordinates decieded as per IMD website\n",
    "    temp_lat = np.arange(7.5,38.5,1)\n",
    "    temp_long = np.arange(67.5,98.5,1)\n",
    "    \n",
    "    ###create combination on the geocoordinates \n",
    "    long_rows = []\n",
    "    lat_rows = []\n",
    "    for long in temp_long:\n",
    "        for lat in temp_lat:\n",
    "            long_rows+=[str(long)+'E']\n",
    "            lat_rows+=[str(lat)+'N']\n",
    "    \n",
    "    ###prepare columns for each day of the year\n",
    "    date_columns = pd.date_range('01/01/{}'.format(year),'31/12/{}'.format(year)).strftime(date_format=\"%Y-%m-%d\").tolist()                      \n",
    "    ###organise data in dictionary for each day and each location\n",
    "    records = dict()\n",
    "    records['Latitude'] = lat_rows\n",
    "    records['Longitude'] = long_rows\n",
    "    for i in range(0,len(date_columns)):\n",
    "        for j in range(0,len(temp_long)):\n",
    "            for k in range(0,len(temp_lat)):\n",
    "                records.setdefault(date_columns[i], []).append(data[i][j][k])\n",
    "    \n",
    "    ###convert to dataframe and replace unkonwn values with 0\n",
    "    temp_dat = pd.DataFrame(records)\n",
    "    temp_dat.replace(99.9000015258789,np.nan,inplace=True)\n",
    "    \n",
    "    ###calculate monthly averages for the specified year\n",
    "    jan_col = [col for col in temp_dat.columns if col.startswith('{}-01'.format(year))]\n",
    "    feb_col = [col for col in temp_dat.columns if col.startswith('{}-02'.format(year))]\n",
    "    mar_col = [col for col in temp_dat.columns if col.startswith('{}-03'.format(year))]\n",
    "    apr_col = [col for col in temp_dat.columns if col.startswith('{}-04'.format(year))]\n",
    "    may_col = [col for col in temp_dat.columns if col.startswith('{}-05'.format(year))]\n",
    "    jun_col = [col for col in temp_dat.columns if col.startswith('{}-06'.format(year))]\n",
    "    jul_col = [col for col in temp_dat.columns if col.startswith('{}-07'.format(year))]\n",
    "    aug_col = [col for col in temp_dat.columns if col.startswith('{}-08'.format(year))]\n",
    "    sep_col = [col for col in temp_dat.columns if col.startswith('{}-09'.format(year))]\n",
    "    oct_col = [col for col in temp_dat.columns if col.startswith('{}-10'.format(year))]\n",
    "    nov_col = [col for col in temp_dat.columns if col.startswith('{}-11'.format(year))]\n",
    "    dec_col = [col for col in temp_dat.columns if col.startswith('{}-12'.format(year))]\n",
    "                                 \n",
    "    avg_jan = temp_dat[jan_col].mean(axis=1)\n",
    "    avg_feb = temp_dat[feb_col].mean(axis=1)\n",
    "    avg_mar = temp_dat[mar_col].mean(axis=1)\n",
    "    avg_apr = temp_dat[apr_col].mean(axis=1)\n",
    "    avg_may = temp_dat[may_col].mean(axis=1)\n",
    "    avg_jun = temp_dat[jun_col].mean(axis=1)\n",
    "    avg_jul = temp_dat[jul_col].mean(axis=1)\n",
    "    avg_aug = temp_dat[aug_col].mean(axis=1)\n",
    "    avg_sep = temp_dat[sep_col].mean(axis=1)\n",
    "    avg_oct = temp_dat[oct_col].mean(axis=1)\n",
    "    avg_nov = temp_dat[nov_col].mean(axis=1)\n",
    "    avg_dec = temp_dat[dec_col].mean(axis=1)\n",
    "    \n",
    "    ###convert to dataframe\n",
    "    final_temp_data = pd.DataFrame(data={'Longitude':long_rows,'Latitude':lat_rows,'T_Avg_Jan{}'.format(year):avg_jan,'T_Avg_Feb{}'.format(year):avg_feb,\n",
    "                   'T_Avg_Mar{}'.format(year):avg_mar,'T_Avg_Apr{}'.format(year):avg_apr,'T_Avg_May{}'.format(year):avg_may,\n",
    "                   'T_Avg_Jun{}'.format(year):avg_jun,'T_Avg_Jul{}'.format(year):avg_jul,'T_Avg_Aug{}'.format(year):avg_aug,\n",
    "                   'T_Avg_Sep{}'.format(year):avg_sep,'T_Avg_Oct{}'.format(year):avg_oct,'T_Avg_Nov{}'.format(year):avg_nov,\n",
    "                   'T_Avg_Dec{}'.format(year):avg_dec})\n",
    "    ###save as csv\n",
    "    final_temp_data.to_csv(r'C:\\Users\\Manan Arora\\Desktop\\AgriTech Project\\Data Driven Business Metrics Project\\Data\\Weather\\Temperature_MonthlyAverages\\MonthlyAverages_{}.csv'.format(year))\n",
    "                                 \n",
    "    print('Reading and converting temperate data to monthly average per location for {} is complete'.format(year))\n",
    "    "
   ]
  },
  {
   "cell_type": "markdown",
   "metadata": {},
   "source": [
    "#### Executing the function"
   ]
  },
  {
   "cell_type": "code",
   "execution_count": 14,
   "metadata": {},
   "outputs": [
    {
     "name": "stdout",
     "output_type": "stream",
     "text": [
      "Reading and converting temperate data to monthly average per location for 2000 is complete\n",
      "Reading and converting temperate data to monthly average per location for 2001 is complete\n",
      "Reading and converting temperate data to monthly average per location for 2002 is complete\n",
      "Reading and converting temperate data to monthly average per location for 2003 is complete\n",
      "Reading and converting temperate data to monthly average per location for 2004 is complete\n",
      "Reading and converting temperate data to monthly average per location for 2005 is complete\n",
      "Reading and converting temperate data to monthly average per location for 2006 is complete\n",
      "Reading and converting temperate data to monthly average per location for 2007 is complete\n",
      "Reading and converting temperate data to monthly average per location for 2008 is complete\n",
      "Reading and converting temperate data to monthly average per location for 2009 is complete\n",
      "Reading and converting temperate data to monthly average per location for 2010 is complete\n",
      "Reading and converting temperate data to monthly average per location for 2011 is complete\n",
      "Reading and converting temperate data to monthly average per location for 2012 is complete\n",
      "Reading and converting temperate data to monthly average per location for 2013 is complete\n",
      "Reading and converting temperate data to monthly average per location for 2014 is complete\n",
      "Reading and converting temperate data to monthly average per location for 2015 is complete\n",
      "Reading and converting temperate data to monthly average per location for 2016 is complete\n",
      "Reading and converting temperate data to monthly average per location for 2017 is complete\n"
     ]
    }
   ],
   "source": [
    "years = list(range(2000,2018,1))\n",
    "years = ['{}'.format(year) for year in years]\n",
    "for year in years: \n",
    "    temp_data_process(base_path,year)"
   ]
  }
 ],
 "metadata": {
  "kernelspec": {
   "display_name": "Python 3",
   "language": "python",
   "name": "python3"
  },
  "language_info": {
   "codemirror_mode": {
    "name": "ipython",
    "version": 3
   },
   "file_extension": ".py",
   "mimetype": "text/x-python",
   "name": "python",
   "nbconvert_exporter": "python",
   "pygments_lexer": "ipython3",
   "version": "3.7.6"
  }
 },
 "nbformat": 4,
 "nbformat_minor": 4
}
