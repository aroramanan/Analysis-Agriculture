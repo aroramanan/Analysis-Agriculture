{
 "cells": [
  {
   "cell_type": "markdown",
   "metadata": {},
   "source": [
    "#### Environment Setup"
   ]
  },
  {
   "cell_type": "code",
   "execution_count": 1,
   "metadata": {},
   "outputs": [],
   "source": [
    "import geopandas as gpd\n",
    "import pandas as pd\n",
    "import numpy as np\n",
    "import math"
   ]
  },
  {
   "cell_type": "markdown",
   "metadata": {},
   "source": [
    "#### Matching Sub-Districts to nearby Rainfall Stations"
   ]
  },
  {
   "cell_type": "code",
   "execution_count": 2,
   "metadata": {},
   "outputs": [],
   "source": [
    "weather_data = pd.read_csv(r'C:\\Users\\Manan Arora\\Desktop\\AgriTech Project\\Data Driven Business Metrics Project\\Data\\Weather\\Station-MonthWise-Rainfall.csv')\n",
    "weather_data['Latitude'] = weather_data['Latitude'].apply(lambda x: x[0:-1])\n",
    "weather_data['Longitude'] = weather_data['Longitude'].apply(lambda x: x[0:-1])\n",
    "weather_data['Latitude'] = weather_data['Latitude'].astype(float)\n",
    "weather_data['Longitude'] = weather_data['Longitude'].astype(float)\n",
    "weather_data = weather_data.rename(columns={'Unnamed: 0':'StationNo'})[['StationNo','Latitude','Longitude']]"
   ]
  },
  {
   "cell_type": "code",
   "execution_count": 3,
   "metadata": {},
   "outputs": [],
   "source": [
    "subdist_loc = pd.read_csv(r'C:\\Users\\Manan Arora\\Desktop\\AgriTech Project\\Data Driven Business Metrics Project\\Data\\SubDist-Location.csv')"
   ]
  },
  {
   "cell_type": "code",
   "execution_count": 4,
   "metadata": {},
   "outputs": [],
   "source": [
    "def distance(df):\n",
    "    lat1, lon1 = df['lat'], df['long']\n",
    "    distances = []\n",
    "    for i in range(len(weather_data)):\n",
    "        lat2, lon2 = weather_data['Latitude'][i],weather_data['Longitude'][i]\n",
    "        radius = 6371 # km\n",
    "        dlat = math.radians(lat2-lat1)\n",
    "        dlon = math.radians(lon2-lon1)\n",
    "        a = math.sin(dlat/2) * math.sin(dlat/2) + math.cos(math.radians(lat1)) \\\n",
    "            * math.cos(math.radians(lat2)) * math.sin(dlon/2) * math.sin(dlon/2)\n",
    "        c = 2 * math.atan2(math.sqrt(a), math.sqrt(1-a))\n",
    "        d = radius * c\n",
    "        distances.append(d)\n",
    "    \n",
    "    stationno = weather_data['StationNo'][np.array(distances).argmin()]\n",
    "\n",
    "    return stationno"
   ]
  },
  {
   "cell_type": "code",
   "execution_count": 5,
   "metadata": {},
   "outputs": [],
   "source": [
    "subdist_loc['StationNo'] = subdist_loc.apply(distance,axis=1)\n",
    "weather_subdist_mapping = subdist_loc.merge(weather_data,on='StationNo')"
   ]
  },
  {
   "cell_type": "code",
   "execution_count": 6,
   "metadata": {},
   "outputs": [],
   "source": [
    "weather_subdist_mapping.to_csv(r'C:\\Users\\Manan Arora\\Desktop\\AgriTech Project\\Data Driven Business Metrics Project\\Data\\Weather\\Rain_SubDist_Map.csv')"
   ]
  },
  {
   "cell_type": "markdown",
   "metadata": {},
   "source": [
    "#### Matching Sub-Districts to nearby Temperature Stations"
   ]
  },
  {
   "cell_type": "code",
   "execution_count": 7,
   "metadata": {},
   "outputs": [],
   "source": [
    "weather_data = pd.read_csv(r'C:\\Users\\Manan Arora\\Desktop\\AgriTech Project\\Data Driven Business Metrics Project\\Data\\Weather\\Station-MonthWise-AverageTemp.csv')\n",
    "weather_data['Latitude'] = weather_data['Latitude'].apply(lambda x: x[0:-1])\n",
    "weather_data['Longitude'] = weather_data['Longitude'].apply(lambda x: x[0:-1])\n",
    "weather_data['Latitude'] = weather_data['Latitude'].astype(float)\n",
    "weather_data['Longitude'] = weather_data['Longitude'].astype(float)\n",
    "weather_data = weather_data.rename(columns={'Unnamed: 0':'StationNo'})[['StationNo','Latitude','Longitude']]"
   ]
  },
  {
   "cell_type": "code",
   "execution_count": 8,
   "metadata": {},
   "outputs": [],
   "source": [
    "subdist_loc = pd.read_csv(r'C:\\Users\\Manan Arora\\Desktop\\AgriTech Project\\Data Driven Business Metrics Project\\Data\\SubDist-Location.csv')"
   ]
  },
  {
   "cell_type": "code",
   "execution_count": 9,
   "metadata": {},
   "outputs": [],
   "source": [
    "def distance(df):\n",
    "    lat1, lon1 = df['lat'], df['long']\n",
    "    distances = []\n",
    "    for i in range(len(weather_data)):\n",
    "        lat2, lon2 = weather_data['Latitude'][i],weather_data['Longitude'][i]\n",
    "        radius = 6371 # km\n",
    "        dlat = math.radians(lat2-lat1)\n",
    "        dlon = math.radians(lon2-lon1)\n",
    "        a = math.sin(dlat/2) * math.sin(dlat/2) + math.cos(math.radians(lat1)) \\\n",
    "            * math.cos(math.radians(lat2)) * math.sin(dlon/2) * math.sin(dlon/2)\n",
    "        c = 2 * math.atan2(math.sqrt(a), math.sqrt(1-a))\n",
    "        d = radius * c\n",
    "        distances.append(d)\n",
    "    \n",
    "    stationno = weather_data['StationNo'][np.array(distances).argmin()]\n",
    "\n",
    "    return stationno"
   ]
  },
  {
   "cell_type": "code",
   "execution_count": 10,
   "metadata": {},
   "outputs": [],
   "source": [
    "subdist_loc['StationNo'] = subdist_loc.apply(distance,axis=1)\n",
    "weather_subdist_mapping = subdist_loc.merge(weather_data,on='StationNo')"
   ]
  },
  {
   "cell_type": "code",
   "execution_count": 11,
   "metadata": {},
   "outputs": [],
   "source": [
    "weather_subdist_mapping.to_csv(r'C:\\Users\\Manan Arora\\Desktop\\AgriTech Project\\Data Driven Business Metrics Project\\Data\\Weather\\Temp_SubDist_Map.csv')"
   ]
  }
 ],
 "metadata": {
  "kernelspec": {
   "display_name": "Python 3",
   "language": "python",
   "name": "python3"
  },
  "language_info": {
   "codemirror_mode": {
    "name": "ipython",
    "version": 3
   },
   "file_extension": ".py",
   "mimetype": "text/x-python",
   "name": "python",
   "nbconvert_exporter": "python",
   "pygments_lexer": "ipython3",
   "version": "3.7.6"
  }
 },
 "nbformat": 4,
 "nbformat_minor": 4
}
