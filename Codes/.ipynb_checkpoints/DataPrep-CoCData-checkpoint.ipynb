{
 "cells": [
  {
   "cell_type": "markdown",
   "metadata": {},
   "source": [
    "#### Environment Setup"
   ]
  },
  {
   "cell_type": "code",
   "execution_count": null,
   "metadata": {},
   "outputs": [],
   "source": [
    "import pandas as pd\n",
    "import numpy as np\n",
    "import matplotlib.pyplot as plt\n",
    "import seaborn as sns\n",
    "\n",
    "%matplotlib inline"
   ]
  },
  {
   "cell_type": "markdown",
   "metadata": {},
   "source": [
    "#### Load Data"
   ]
  },
  {
   "cell_type": "code",
   "execution_count": null,
   "metadata": {},
   "outputs": [],
   "source": [
    "coc_data = pd.read_csv(r'C:\\Users\\Manan Arora\\Desktop\\AgriTech Project\\Data Driven Business Metrics Project\\Data\\Cost of Cultivation\\Cost of Cultivation_2005_2016.csv').drop('Unnamed: 0',axis=1)"
   ]
  },
  {
   "cell_type": "markdown",
   "metadata": {},
   "source": [
    "#### Expoloratory Analysis"
   ]
  },
  {
   "cell_type": "code",
   "execution_count": null,
   "metadata": {},
   "outputs": [],
   "source": [
    "state_farmer_count = coc_data[['state_name','farmerid']].drop_duplicates().groupby('state_name').agg({'farmerid':'count'}).reset_index().rename(columns={'farmerid':'Farmer Count'})\n",
    "dist_farmer_count = coc_data[['state_name','dist_name','farmerid']].drop_duplicates().groupby(['state_name','dist_name']).agg({'farmerid':'count'}).reset_index().rename(columns={'farmerid':'Farmer Count'})\n",
    "subdist_farmer_count = coc_data[['state_name','dist_name','subdist_name','farmerid']].drop_duplicates().groupby(['state_name','dist_name','subdist_name']).agg({'farmerid':'count'}).reset_index().rename(columns={'farmerid':'Farmer Count'})"
   ]
  },
  {
   "cell_type": "code",
   "execution_count": null,
   "metadata": {},
   "outputs": [],
   "source": [
    "crop_data = coc_data.groupby('crop').agg({'farmerid':'count'}).reset_index().rename(columns={'farmerid':'Observation Count'})"
   ]
  },
  {
   "cell_type": "code",
   "execution_count": null,
   "metadata": {},
   "outputs": [],
   "source": [
    "season_data = coc_data.groupby('season').agg({'farmerid':'count'}).reset_index().rename(columns={'farmerid':'Observation Count'})"
   ]
  },
  {
   "cell_type": "code",
   "execution_count": null,
   "metadata": {},
   "outputs": [],
   "source": [
    "subdist_cropbasket = coc_data[['state_name','dist_name','subdist_name','crop']].drop_duplicates().groupby(['state_name','dist_name','subdist_name']).agg({'crop':';'.join}).reset_index().rename(columns={'crop':'Crop List'})\n",
    "subdist_cropbasket['Crop List'] = subdist_cropbasket['Crop List'].apply(lambda x: x.split(';'))\n",
    "subdist_cropbasket['Crop Count'] = subdist_cropbasket['Crop List'].apply(lambda x: len(x))"
   ]
  },
  {
   "cell_type": "code",
   "execution_count": null,
   "metadata": {},
   "outputs": [],
   "source": [
    "dist_cropbasket = coc_data[['state_name','dist_name','crop']].drop_duplicates().groupby(['state_name','dist_name']).agg({'crop':';'.join}).reset_index().rename(columns={'crop':'Crop List'})\n",
    "dist_cropbasket['Crop List'] = dist_cropbasket['Crop List'].apply(lambda x: x.split(';'))\n",
    "dist_cropbasket['Crop Count'] = dist_cropbasket['Crop List'].apply(lambda x: len(x))"
   ]
  },
  {
   "cell_type": "code",
   "execution_count": null,
   "metadata": {},
   "outputs": [],
   "source": [
    "state_cropbasket = coc_data[['state_name','crop']].drop_duplicates().groupby(['state_name']).agg({'crop':';'.join}).reset_index().rename(columns={'crop':'Crop List'})\n",
    "state_cropbasket['Crop List'] = state_cropbasket['Crop List'].apply(lambda x: x.split(';'))\n",
    "state_cropbasket['Crop Count'] = state_cropbasket['Crop List'].apply(lambda x: len(x))"
   ]
  },
  {
   "cell_type": "code",
   "execution_count": null,
   "metadata": {},
   "outputs": [],
   "source": [
    "season_croplist = coc_data[['season','crop']].drop_duplicates().groupby('season').agg({'crop':';'.join}).reset_index().rename(columns={'crop':'Crop List'})\n",
    "season_croplist['Crop List'] = season_croplist['Crop List'].apply(lambda x: x.split(';'))\n",
    "season_croplist['Crop Count'] = season_croplist['Crop List'].apply(lambda x: len(x))"
   ]
  },
  {
   "cell_type": "code",
   "execution_count": null,
   "metadata": {},
   "outputs": [],
   "source": [
    "crop_seasonlist = coc_data[['season','crop']].drop_duplicates()\n",
    "crop_seasonlist['season'] = crop_seasonlist['season'].astype(str)\n",
    "crop_seasonlist = crop_seasonlist.groupby('crop').agg({'season':','.join}).reset_index().rename(columns={'season':'Season List'})\n",
    "crop_seasonlist['Season List'] = crop_seasonlist['Season List'].apply(lambda x: x.split(','))\n",
    "crop_seasonlist['Season Count'] = crop_seasonlist['Season List'].apply(lambda x: len(x))"
   ]
  },
  {
   "cell_type": "code",
   "execution_count": null,
   "metadata": {},
   "outputs": [],
   "source": [
    "writer = pd.ExcelWriter(r'C:\\Users\\Manan Arora\\Desktop\\AgriTech Project\\Data Driven Business Metrics Project\\Data\\CoCAnalysis.xlsx', engine='xlsxwriter')\n",
    "state_farmer_count.to_excel(writer,sheet_name='FC-StateLevel',index=False)\n",
    "dist_farmer_count.to_excel(writer,sheet_name='FC-DistrictLevel',index=False)\n",
    "subdist_farmer_count.to_excel(writer,sheet_name='FC-SubDistrictLevel',index=False)\n",
    "crop_data.to_excel(writer,sheet_name='Crop Counts',index=False)\n",
    "crop_seasonlist.to_excel(writer,sheet_name='Crop Seasons',index=False)\n",
    "season_data.to_excel(writer,sheet_name='Season Counts',index=False)\n",
    "season_croplist.to_excel(writer,sheet_name='Season Crop Lists',index=False)\n",
    "state_cropbasket.to_excel(writer,sheet_name='CB-StateLevel',index=False)\n",
    "dist_cropbasket.to_excel(writer,sheet_name='CB-DistrictLevel',index=False)\n",
    "subdist_cropbasket.to_excel(writer,sheet_name='CB-SubDistrictLevel',index=False)\n",
    "writer.save()"
   ]
  },
  {
   "cell_type": "code",
   "execution_count": null,
   "metadata": {},
   "outputs": [],
   "source": [
    "coc_data.rename(columns={'state_name':'State','dist_name':'District','subdist_name':'Sub-District'},inplace=True)"
   ]
  },
  {
   "cell_type": "code",
   "execution_count": null,
   "metadata": {},
   "outputs": [],
   "source": [
    "len(coc_data.dropna())"
   ]
  },
  {
   "cell_type": "markdown",
   "metadata": {},
   "source": [
    "#### Adding Subdistrict Level - Nutrient, Temperature and Soil Information"
   ]
  },
  {
   "cell_type": "code",
   "execution_count": null,
   "metadata": {},
   "outputs": [],
   "source": [
    "soil_data = pd.read_csv(r'C:\\Users\\Manan Arora\\Desktop\\AgriTech Project\\Data Driven Business Metrics Project\\Data\\Soil Data\\Soil_SubDist_AllData.csv')\n",
    "tempd = pd.read_csv(r'C:\\Users\\Manan Arora\\Desktop\\AgriTech Project\\Data Driven Business Metrics Project\\Data\\Weather\\TempStations-SubDistricts-AllYears.csv')\n",
    "raind = pd.read_csv(r'C:\\Users\\Manan Arora\\Desktop\\AgriTech Project\\Data Driven Business Metrics Project\\Data\\Weather\\RainStations-SubDistricts-AllYears.csv')"
   ]
  },
  {
   "cell_type": "markdown",
   "metadata": {},
   "source": [
    "##### Fill State Wise NAs for missing temperatures"
   ]
  },
  {
   "cell_type": "code",
   "execution_count": null,
   "metadata": {},
   "outputs": [],
   "source": [
    "cols = [x for x in tempd.columns if x.startswith('T_Avg')]\n",
    "for col in cols:\n",
    "    tempd[col] = tempd.groupby(['State'])[col].transform(lambda x: x.fillna(x.mean()))"
   ]
  },
  {
   "cell_type": "markdown",
   "metadata": {},
   "source": [
    "##### Adding Soil Nutrient Information"
   ]
  },
  {
   "cell_type": "code",
   "execution_count": null,
   "metadata": {},
   "outputs": [],
   "source": [
    "coc_data = coc_data.merge(soil_data,on=['State','District','Sub-District'])"
   ]
  },
  {
   "cell_type": "code",
   "execution_count": null,
   "metadata": {},
   "outputs": [],
   "source": [
    "len(coc_data.dropna())"
   ]
  },
  {
   "cell_type": "markdown",
   "metadata": {},
   "source": [
    "#### Adding Temperature and Rainfall Information"
   ]
  },
  {
   "cell_type": "markdown",
   "metadata": {},
   "source": [
    "##### Kharif"
   ]
  },
  {
   "cell_type": "code",
   "execution_count": null,
   "metadata": {},
   "outputs": [],
   "source": [
    "coc_data_kharif = coc_data[coc_data['season']==1]\n",
    "coc_data_kharif_w = pd.DataFrame(columns=coc_data_kharif.columns.tolist() + ['Temp','Rain'])\n",
    "for year in coc_data_kharif.year.unique():\n",
    "    coc_data_kharif_filt = coc_data_kharif[coc_data_kharif['year']==year]\n",
    "    temp_cols = [x for x in tempd.columns if x.endswith(str(year))][6:10]\n",
    "    rain_cols = [x for x in raind.columns if x.endswith(str(year))][6:10]\n",
    "    tempd['Temp'] = tempd[temp_cols].mean(axis=1)\n",
    "    raind['Rain'] = raind[rain_cols].sum(axis=1)\n",
    "    coc_data_kharif_w = coc_data_kharif_w.append(coc_data_kharif_filt\\\n",
    "               .merge(tempd[['State','District','Sub-District','Temp']], on = ['State','District','Sub-District'])\\\n",
    "               .merge(raind[['State','District','Sub-District','Rain']], on = ['State','District','Sub-District']))"
   ]
  },
  {
   "cell_type": "markdown",
   "metadata": {},
   "source": [
    "##### Rabi"
   ]
  },
  {
   "cell_type": "code",
   "execution_count": null,
   "metadata": {},
   "outputs": [],
   "source": [
    "coc_data_rabi = coc_data[coc_data['season']==2]\n",
    "coc_data_rabi_w = pd.DataFrame(columns=coc_data_rabi.columns.tolist() + ['Temp','Rain'])\n",
    "for year in coc_data_rabi.year.unique():\n",
    "    coc_data_rabi_filt = coc_data_rabi[coc_data_rabi['year']==year]\n",
    "    if year == 2016:\n",
    "        temp_cols = [x for x in tempd.columns if x.endswith(str(year))][11:13] + [x for x in tempd.columns if x.endswith(str(year))][0:4]\n",
    "        rain_cols = [x for x in raind.columns if x.endswith(str(year))][11:13] + [x for x in raind.columns if x.endswith(str(year))][0:4]\n",
    "    else:\n",
    "        temp_cols = [x for x in tempd.columns if x.endswith(str(year))][11:13] + [x for x in tempd.columns if x.endswith(str(year+1))][0:4]\n",
    "        rain_cols = [x for x in raind.columns if x.endswith(str(year))][11:13] + [x for x in raind.columns if x.endswith(str(year+1))][0:4]\n",
    "    tempd['Temp'] = tempd[temp_cols].mean(axis=1)\n",
    "    raind['Rain'] = raind[rain_cols].sum(axis=1)\n",
    "    coc_data_rabi_w = coc_data_rabi_w.append(coc_data_rabi_filt\\\n",
    "               .merge(tempd[['State','District','Sub-District','Temp']], on = ['State','District','Sub-District'])\\\n",
    "               .merge(raind[['State','District','Sub-District','Rain']], on = ['State','District','Sub-District']))"
   ]
  },
  {
   "cell_type": "markdown",
   "metadata": {},
   "source": [
    "##### Others"
   ]
  },
  {
   "cell_type": "code",
   "execution_count": null,
   "metadata": {},
   "outputs": [],
   "source": [
    "coc_data_others = coc_data[coc_data['season']==3]\n",
    "coc_data_others_w = pd.DataFrame(columns=coc_data_others.columns.tolist() + ['Temp','Rain'])\n",
    "for year in coc_data_others.year.unique():\n",
    "    coc_data_others_filt = coc_data_others[coc_data_others['year']==year]\n",
    "    temp_cols = [x for x in tempd.columns if x.endswith(str(year))][2:6]\n",
    "    rain_cols = [x for x in raind.columns if x.endswith(str(year))][2:6]\n",
    "    tempd['Temp'] = tempd[temp_cols].mean(axis=1)\n",
    "    raind['Rain'] = raind[rain_cols].sum(axis=1)\n",
    "    coc_data_others_w = coc_data_others_w.append(coc_data_others_filt\\\n",
    "               .merge(tempd[['State','District','Sub-District','Temp']], on = ['State','District','Sub-District'])\\\n",
    "               .merge(raind[['State','District','Sub-District','Rain']], on = ['State','District','Sub-District']))"
   ]
  },
  {
   "cell_type": "markdown",
   "metadata": {},
   "source": [
    "#### Merging Back all Seasons"
   ]
  },
  {
   "cell_type": "code",
   "execution_count": null,
   "metadata": {},
   "outputs": [],
   "source": [
    "coc_data = coc_data_kharif_w.append(coc_data_rabi_w,ignore_index=True).append(coc_data_others_w,ignore_index=True)"
   ]
  },
  {
   "cell_type": "code",
   "execution_count": null,
   "metadata": {},
   "outputs": [],
   "source": [
    "len(coc_data.dropna())"
   ]
  },
  {
   "cell_type": "markdown",
   "metadata": {},
   "source": [
    "#### Adding Cost Calculations based on government mandated formulas"
   ]
  },
  {
   "cell_type": "code",
   "execution_count": null,
   "metadata": {},
   "outputs": [],
   "source": [
    "cost_columns = ['atchdlab_rs','casuallab_rs','hrdanimllab_rs','ownanimllab_rs','hrdmchn_rs','ownmchn_rs','seed_rs','fertn_rs','fertp_rs','fertk_rs','fertoth_rs','ferttotal_rs','manure_rs','insecticide_rs','ownirrimchn_rs','hrdirrimchn_rs',\t'canalandothirri_rs','misc_rs','landrevenue_rs','totaldepre_rs']"
   ]
  },
  {
   "cell_type": "code",
   "execution_count": null,
   "metadata": {},
   "outputs": [],
   "source": [
    "coc_data['total_coc'] = coc_data[cost_columns].sum(axis=1)\n",
    "coc_data['totalval_rs'] = coc_data['mainprd_rs'] + coc_data['byprd_rs']\n",
    "coc_data['mainprd_ton'] = coc_data['mainprd_qtl'] / 9.072\n",
    "coc_data['derived_yield'] = coc_data['mainprd_ton']/coc_data['croparea_ha']\n",
    "coc_data['total_cop'] = (coc_data['mainprd_rs']/coc_data['total_coc']) * (coc_data['totalval_rs']/coc_data['derived_yield'])\n",
    "coc_data['mainprd_coc'] = coc_data['total_coc'] * (coc_data['mainprd_rs']/coc_data['totalval_rs'])\n",
    "coc_data['byprd_coc'] = coc_data['total_coc'] * (coc_data['byprd_rs']/coc_data['totalval_rs'])"
   ]
  },
  {
   "cell_type": "markdown",
   "metadata": {},
   "source": [
    "#### Finalising Cost of Cultivation Data"
   ]
  },
  {
   "cell_type": "code",
   "execution_count": null,
   "metadata": {},
   "outputs": [],
   "source": [
    "coc_data_final = coc_data.drop(['block','zone','tehsil_coc','sizegroup',\n",
    "'ss_groupno','area_sel_cr_vil_ha','nvillages_tehsil','ngrowers_cluster',\n",
    "'cluster_weight','cropareainzone_ha','cropprodinzone_qtl','ntehsilsinzone',\n",
    "'n_samp_teh_zone','area_sel_cr_zn_ha','minrent','maxrent','samp_zo_state',\n",
    "'samp_cl_state','tenure','sub_census'],axis=1)"
   ]
  },
  {
   "cell_type": "code",
   "execution_count": null,
   "metadata": {},
   "outputs": [],
   "source": [
    "coc_data_final.to_csv(r'C:\\Users\\Manan Arora\\Desktop\\AgriTech Project\\Data Driven Business Metrics Project\\FinalSubDistData\\CoC-AllCombined.csv',index=False)"
   ]
  },
  {
   "cell_type": "markdown",
   "metadata": {},
   "source": [
    "#### Adding Price from the Market Nearby"
   ]
  },
  {
   "cell_type": "code",
   "execution_count": null,
   "metadata": {},
   "outputs": [],
   "source": [
    "coc_data_final = pd.read_csv(r'C:\\Users\\Manan Arora\\Desktop\\AgriTech Project\\Data Driven Business Metrics Project\\FinalSubDistData\\CoC-AllCombined.csv')"
   ]
  }
 ],
 "metadata": {
  "kernelspec": {
   "display_name": "Python 3",
   "language": "python",
   "name": "python3"
  },
  "language_info": {
   "codemirror_mode": {
    "name": "ipython",
    "version": 3
   },
   "file_extension": ".py",
   "mimetype": "text/x-python",
   "name": "python",
   "nbconvert_exporter": "python",
   "pygments_lexer": "ipython3",
   "version": "3.7.6"
  }
 },
 "nbformat": 4,
 "nbformat_minor": 4
}
