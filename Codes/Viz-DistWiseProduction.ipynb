{
 "cells": [
  {
   "cell_type": "code",
   "execution_count": null,
   "metadata": {},
   "outputs": [],
   "source": [
    "#### Environment Setup"
   ]
  },
  {
   "cell_type": "code",
   "execution_count": null,
   "metadata": {},
   "outputs": [],
   "source": [
    "import fiona\n",
    "from bokeh.io import output_notebook, show, output_file, curdoc\n",
    "from bokeh.models import GeoJSONDataSource, ColumnDataSource, HoverTool, LogColorMapper,  ColorBar,LabelSet, LinearColorMapper\n",
    "from bokeh.palettes import Reds6 as palette\n",
    "from bokeh.palettes import brewer\n",
    "from bokeh.plotting import figure, save\n",
    "from bokeh.resources import CDN\n",
    "from bokeh.layouts import column, row, widgetbox\n",
    "from bokeh.models import CustomJS, Slider, Toggle, Dropdown, DataTable, TableColumn, HTMLTemplateFormatter, NumberFormatter"
   ]
  },
  {
   "cell_type": "code",
   "execution_count": null,
   "metadata": {},
   "outputs": [],
   "source": [
    "print('Analysis by Manan Arora')"
   ]
  },
  {
   "cell_type": "markdown",
   "metadata": {},
   "source": [
    "Website: https://www.aroramanan.in"
   ]
  },
  {
   "cell_type": "markdown",
   "metadata": {},
   "source": [
    "## Know Where Your Food Comes From: Visualizing District Wise Crop Production in India"
   ]
  },
  {
   "cell_type": "markdown",
   "metadata": {},
   "source": [
    "Want to know more about Crop Production, Crop Yields, Soil Nutrient Deficiencies and Fertilizer Usage across States - Checkout this analysis here: https://www.aroramanan.in/Viz-AgricultureData.html"
   ]
  },
  {
   "cell_type": "code",
   "execution_count": null,
   "metadata": {},
   "outputs": [],
   "source": [
    "#### Mapping"
   ]
  },
  {
   "cell_type": "code",
   "execution_count": null,
   "metadata": {},
   "outputs": [],
   "source": [
    "shp_st = fiona.open(r\"C:\\Users\\Manan Arora\\Desktop\\AgriTech\\Visualizations\\India Shapes\\India_Agri_State_Data.shp\")\n",
    "state_name = [feat[\"properties\"][\"ST_NM\"] for feat in shp_st]\n",
    "state_x = [[x[0] for x in feat[\"geometry\"][\"coordinates\"][0]] for feat in shp_st]\n",
    "state_y = [[y[1] for y in feat[\"geometry\"][\"coordinates\"][0]] for feat in shp_st]"
   ]
  },
  {
   "cell_type": "code",
   "execution_count": null,
   "metadata": {},
   "outputs": [],
   "source": [
    "data_state =dict(\n",
    "    x=state_x, y=state_y, state_name = state_name)"
   ]
  },
  {
   "cell_type": "code",
   "execution_count": null,
   "metadata": {},
   "outputs": [],
   "source": [
    "shp = fiona.open(r\"C:\\Users\\Manan Arora\\Desktop\\AgriTech\\Visualizations\\India Shapes\\India_Agri_Data.shp\")\n",
    "district_name = [feat[\"properties\"][\"DISTRICT\"] for feat in shp]\n",
    "state_name = [feat[\"properties\"][\"ST_NM\"] for feat in shp]\n",
    "district_x = [[x[0] for x in feat[\"geometry\"][\"coordinates\"][0]] for feat in shp]\n",
    "district_y = [[y[1] for y in feat[\"geometry\"][\"coordinates\"][0]] for feat in shp]\n",
    "district_xy = [[ xy for xy in feat[\"geometry\"][\"coordinates\"][0]] for feat in shp]\n",
    "cereal_tpp = [ round(feat[\"properties\"][\"CerealTPP\"],2) for feat in shp]\n",
    "pulses_tpp = [ round(feat[\"properties\"][\"PulsesTPP\"],2) for feat in shp]\n",
    "drugsnarco_tpp = [ round(feat[\"properties\"][\"DrugsTPP\"],2) for feat in shp]\n",
    "fruits_tpp = [ round(feat[\"properties\"][\"FruitsTPP\"],2) for feat in shp]\n",
    "vegetables_tpp = [ round(feat[\"properties\"][\"VegeTPP\"],2) for feat in shp]\n",
    "spices_tpp = [ round(feat[\"properties\"][\"SpicesTPP\"],2) for feat in shp]\n",
    "sugar_tpp = [ round(feat[\"properties\"][\"SugarTPP\"],2) for feat in shp]\n",
    "oil_tpp = [ round(feat[\"properties\"][\"OilTPP\"],2) for feat in shp]\n",
    "dryfruit_tpp = [ round(feat[\"properties\"][\"DryFruTPP\"],2) for feat in shp]\n",
    "fiber_tpp = [ round(feat[\"properties\"][\"FiberTPP\"],2) for feat in shp]\n",
    "cereal_cpp = [ round(feat[\"properties\"][\"CerealCPP\"],2) for feat in shp]\n",
    "pulses_cpp = [ round(feat[\"properties\"][\"PulsesCPP\"],2) for feat in shp]\n",
    "drugsnarco_cpp = [ round(feat[\"properties\"][\"DrugsCPP\"],2) for feat in shp]\n",
    "fruits_cpp = [ round(feat[\"properties\"][\"FruitsCPP\"],2) for feat in shp]\n",
    "vegetables_cpp = [ round(feat[\"properties\"][\"VegeCPP\"],2) for feat in shp]\n",
    "spices_cpp = [ round(feat[\"properties\"][\"SpicesCPP\"],2) for feat in shp]\n",
    "sugar_cpp = [ round(feat[\"properties\"][\"SugarCPP\"],2) for feat in shp]\n",
    "oil_cpp = [ round(feat[\"properties\"][\"OilCPP\"],2) for feat in shp]\n",
    "dryfruit_cpp = [ round(feat[\"properties\"][\"DryFruCPP\"],2) for feat in shp]\n",
    "fiber_cpp = [ round(feat[\"properties\"][\"FiberCPP\"],2) for feat in shp]\n",
    "cereal_tc = [ feat[\"properties\"][\"CerealTC\"] for feat in shp]\n",
    "pulses_tc = [ feat[\"properties\"][\"PulsesTC\"] for feat in shp]\n",
    "drugsnarco_tc = [ feat[\"properties\"][\"DrugsTC\"] for feat in shp]\n",
    "fruits_tc = [ feat[\"properties\"][\"FruitsTC\"] for feat in shp]\n",
    "vegetables_tc = [ feat[\"properties\"][\"VegeTC\"] for feat in shp]\n",
    "spices_tc = [ feat[\"properties\"][\"SpicesTC\"] for feat in shp]\n",
    "sugar_tc = [ feat[\"properties\"][\"SugarTC\"] for feat in shp]\n",
    "oil_tc = [ feat[\"properties\"][\"OilTC\"] for feat in shp]\n",
    "dryfruit_tc = [ feat[\"properties\"][\"DryFruTC\"] for feat in shp]\n",
    "fiber_tc = [ feat[\"properties\"][\"FiberTC\"] for feat in shp]\n",
    "cereal_tp = [ feat[\"properties\"][\"CerealTP\"] for feat in shp]\n",
    "pulses_tp = [ feat[\"properties\"][\"PulsesTP\"] for feat in shp]\n",
    "drugsnarco_tp = [ feat[\"properties\"][\"DrugsTP\"] for feat in shp]\n",
    "fruits_tp = [ feat[\"properties\"][\"FruitsTP\"] for feat in shp]\n",
    "vegetables_tp = [ feat[\"properties\"][\"VegeTP\"] for feat in shp]\n",
    "spices_tp = [ feat[\"properties\"][\"SpicesTP\"] for feat in shp]\n",
    "sugar_tp = [ feat[\"properties\"][\"SugarTP\"] for feat in shp]\n",
    "oil_tp = [ feat[\"properties\"][\"OilTP\"] for feat in shp]\n",
    "dryfruit_tp = [ feat[\"properties\"][\"DryFruTP\"] for feat in shp]\n",
    "fiber_tp = [ feat[\"properties\"][\"FiberTP\"] for feat in shp]\n",
    "cereal_cp = [ feat[\"properties\"][\"CerealCP\"] for feat in shp]\n",
    "pulses_cp = [ feat[\"properties\"][\"PulsesCP\"] for feat in shp]\n",
    "drugsnarco_cp = [ feat[\"properties\"][\"DrugsCP\"] for feat in shp]\n",
    "fruits_cp = [ feat[\"properties\"][\"FruitsCP\"] for feat in shp]\n",
    "vegetables_cp = [ feat[\"properties\"][\"VegeCP\"] for feat in shp]\n",
    "spices_cp = [ feat[\"properties\"][\"SpicesCP\"] for feat in shp]\n",
    "sugar_cp = [ feat[\"properties\"][\"SugarCP\"] for feat in shp]\n",
    "oil_cp = [ feat[\"properties\"][\"OilCP\"] for feat in shp]\n",
    "dryfruit_cp = [ feat[\"properties\"][\"DryFruCP\"] for feat in shp]\n",
    "fiber_cp = [ feat[\"properties\"][\"FiberCP\"] for feat in shp]"
   ]
  },
  {
   "cell_type": "code",
   "execution_count": null,
   "metadata": {},
   "outputs": [],
   "source": [
    "tot_prod = {'cereal_prod': cereal_tp,'drugs_prod':drugsnarco_tp,'pulses_prod':pulses_tp, 'sugar_prod':sugar_tp,'spices_prod':spices_tp,'vegetables_prod':vegetables_tp,'fruits_prod':fruits_tp,'oil_prod':oil_tp,'dryfruits_prod':dryfruit_tp,'fiber_prod':fiber_tp}\n",
    "crop_name = {'cereal_topcrop': cereal_tc,'drugs_topcrop':drugsnarco_tc,'pulses_topcrop':pulses_tc, 'sugar_topcrop':sugar_tc,'spices_topcrop':spices_tc,'vegetables_topcrop':vegetables_tc,'fruits_topcrop':fruits_tc,'oil_topcrop':oil_tc,'dryfruits_topcrop':dryfruit_tc,'fiber_topcrop':fiber_tc}\n",
    "crop_per_prod = {'cereal_topcropper': cereal_cpp,'drugs_topcropper':drugsnarco_cpp,'pulses_topcropper':pulses_cpp, 'sugar_topcropper':sugar_cpp,'spices_topcropper':spices_cpp,'vegetables_topcropper':vegetables_cpp,'fruits_topcropper':fruits_cpp,'oil_topcropper':oil_cpp,'dryfruits_topcropper':dryfruit_cpp,'fiber_topcropper':fiber_cpp}\n",
    "tot_per_prod = {'cereal_totper': cereal_tpp,'drugs_totper':drugsnarco_tpp,'pulses_totper':pulses_tpp, 'sugar_totper':sugar_tpp,'spices_totper':spices_tpp,'vegetables_totper':vegetables_tpp,'fruits_totper':fruits_tpp,'oil_totper':oil_tpp,'dryfruits_totper':dryfruit_tpp,'fiber_totper':fiber_tpp}\n",
    "crop_prod = {'cereal_topcropprod': cereal_cp,'drugs_topcropprod':drugsnarco_cp,'pulses_topcropprod':pulses_cp, 'sugar_topcropprod':sugar_cp,'spices_topcropprod':spices_cp,'vegetables_topcropprod':vegetables_cp,'fruits_topcropprod':fruits_cp,'oil_topcropprod':oil_cp,'dryfruits_topcropprod':dryfruit_cp,'fiber_topcropprod':fiber_cp}"
   ]
  },
  {
   "cell_type": "code",
   "execution_count": null,
   "metadata": {},
   "outputs": [],
   "source": [
    "data_dist =dict(\n",
    "    x=district_x, y=district_y, state_name = state_name,\n",
    "    district_name=district_name, production = tot_prod['cereal_prod'],topcrop = crop_name['cereal_topcrop'], \n",
    "    prodper = tot_per_prod['cereal_totper'], cropper = crop_per_prod['cereal_topcropper'], cropprod = crop_prod['cereal_topcropprod'],\n",
    "    **tot_prod,**crop_name,**crop_per_prod,**tot_per_prod,**crop_prod)"
   ]
  },
  {
   "cell_type": "code",
   "execution_count": null,
   "metadata": {},
   "outputs": [],
   "source": [
    "source_dist = ColumnDataSource(data_dist)\n",
    "source_state = ColumnDataSource(data_state)\n",
    "\n",
    "palette = brewer['YlGn'][9]\n",
    "#Reverse color order so that dark blue is highest obesity.\n",
    "palette = palette[::-1]\n",
    "#Instantiate LinearColorMapper that linearly maps numbers in a range, into a sequence of colors.\n",
    "color_mapper = LinearColorMapper(palette = palette, low = -0, high = 1.5)\n",
    "#Define custom tick labels for color bar.\n",
    "#hover\n",
    "#color bar\n",
    "color_bar = ColorBar(color_mapper=color_mapper, label_standoff=8,width = 610, height = 20,\n",
    "border_line_color=None,location = (0,0), orientation = 'horizontal', major_label_text_color = \"white\",major_tick_line_width=0)\n",
    "TOOLS = \"pan,wheel_zoom,reset,hover,save\"\n",
    "#Create figure object.\n",
    "p = figure(title = 'CEREALS: Production Distribution - District Level', plot_height = 800 , plot_width = 650,tools=TOOLS)\n",
    "p.xgrid.grid_line_color = None\n",
    "p.ygrid.grid_line_color = None\n",
    "#Add patch renderer to figure. \n",
    "#p.patches('x','y', source = source_state,line_color = 'red', line_width = 3, line_dash = \"dotted\", fill_alpha = 0)\n",
    "p.patches('x','y', source = source_dist,fill_color = {'field' :'prodper', 'transform' : color_mapper},line_color = 'black', line_width = 0.25, fill_alpha = 1)\n",
    "#Specify figure layout.\n",
    "p.add_layout(color_bar, 'below')\n",
    "hover = p.select_one(HoverTool)\n",
    "hover.point_policy = \"follow_mouse\"\n",
    "hover.tooltips = [('State','@state_name'),('District','@district_name'),('% Production', '@prodper'),('Production', '@production'),('Top Crop','@topcrop'),('Share of Top Crop','@cropper'),('Top Crop Production', '@cropprod')]\n",
    "p.axis.visible = False\n",
    "#title \n",
    "p.title.align = 'center'\n",
    "p.title.text_font_size = '12pt'\n",
    "p.grid.grid_line_color = None\n",
    "\n",
    "menu = [(\"Pulses\", \"pulses\"), (\"Cereals\", \"cereal\"), (\"Fruits\", \"fruits\"),(\"Vegetables\",'vegetables'),('Sugar','sugar'),\n",
    "        ('Oilseeds','oil'),('Spices','spices'),('Dry Fruits','dryfruits'),('Fiber Crop','fiber'),('Drug and Narcotics','drugs')]\n",
    "dropdown = Dropdown(label=\"Select the Crop Category\", menu=menu, width=630)\n",
    "callback = CustomJS(args=dict(p=p, source=source_dist, title = p.title), code=\"\"\"\n",
    "        var data = source.data;\n",
    "        var f = String(cb_obj.value);\n",
    "        data['production'] = data[f+\"_prod\"];\n",
    "        data['cropprod'] = data[f+\"_topcropprod\"];\n",
    "        data['prodper'] = data[f+\"_totper\"]\n",
    "        data['cropper'] = data[f+\"_topcropper\"];\n",
    "        data['topcrop'] = data[f+\"_topcrop\"];\n",
    "        title.text = f.toUpperCase() + ': Production Distribution - District Level'\n",
    "        source.change.emit();\n",
    "        \"\"\")\n",
    "\n",
    "columns = [TableColumn(field = \"state_name\", title = \"State\"), TableColumn(field = \"district_name\", title = \"District\"),\n",
    "          TableColumn(field = \"production\", title = \"Total Production\", default_sort=\"descending\"), \n",
    "           TableColumn(field = \"prodper\", title = \"% of Total Production\",default_sort=\"descending\"),\n",
    "          TableColumn(field = \"topcrop\", title = \"Top Crop Name\"), TableColumn(field = \"cropprod\", title = \"Top Crop Production\",default_sort=\"descending\"),\n",
    "          TableColumn(field = \"cropper\", title = \"%  of Top Crop\",default_sort=\"descending\")]\n",
    "\n",
    "table = DataTable(source = source_dist, columns = columns, width = 800, selectable =\"checkbox\", index_position = None)\n",
    "\n",
    "dropdown.js_on_change('value', callback)\n",
    "\n",
    "layout = column(dropdown,p, table)\n",
    "curdoc().add_root(layout)\n",
    "\n",
    "#Display figure inline in Jupyter Notebook.\n",
    "output_notebook()\n",
    "#Display figure.\n",
    "show(layout)"
   ]
  },
  {
   "cell_type": "markdown",
   "metadata": {},
   "source": [
    "<b> Note: </b>\n",
    "- Unit for Production - Tonnes"
   ]
  },
  {
   "cell_type": "markdown",
   "metadata": {},
   "source": [
    "<b> Open Data Sources Used: </b>\n",
    "- Annual District Wise Production Statistics (Cummulative for period - 2013-18):  https://aps.dac.gov.in/APY/Index.htm\n",
    "- Geographical Shape Files/ Boundary Files for Districts of India as per Census 2011: https://github.com/datameet/maps"
   ]
  },
  {
   "cell_type": "markdown",
   "metadata": {},
   "source": [
    "<b> Disclaimer and Important Points: </b>\n",
    "- The Crop Categories are defined based on common classification of crops <br>\n",
    "(Definition File: https://github.com/aroramanan/CropReccomendation/blob/master/Crop_Categories.xlsx)\n",
    "- Processed Data for District Wise Production Statistics from 2013 to 2018 <br>\n",
    "(File: https://github.com/aroramanan/CropReccomendation/blob/master/APY_13_14_to_17_18.csv)\n",
    "- In the data used, only data for Bananas is available for the Fruit Crop Category and only data for Sugarcane is available for the Sugar Crop Category\n",
    "- The data is made available by the Union Government of India under Open Government Data (OGD) Platform\n",
    "- Due to the varied collection mechanisms, there might be several inconsistencies in the data as reported on the Govt Website\n",
    "- The author of this analysis does not take any responsibility of misrepresentaion, falsification or any kind of incorrect data"
   ]
  },
  {
   "cell_type": "markdown",
   "metadata": {},
   "source": [
    "<b> Source Code: </b> https://github.com/aroramanan/CropReccomendation/blob/master/Codes/Viz-DistWiseProduction.ipynb"
   ]
  }
 ],
 "metadata": {
  "kernelspec": {
   "display_name": "Python 3",
   "language": "python",
   "name": "python3"
  },
  "language_info": {
   "codemirror_mode": {
    "name": "ipython",
    "version": 3
   },
   "file_extension": ".py",
   "mimetype": "text/x-python",
   "name": "python",
   "nbconvert_exporter": "python",
   "pygments_lexer": "ipython3",
   "version": "3.7.6"
  }
 },
 "nbformat": 4,
 "nbformat_minor": 4
}
