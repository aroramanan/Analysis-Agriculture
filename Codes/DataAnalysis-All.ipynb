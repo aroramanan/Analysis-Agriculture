{
 "cells": [
  {
   "cell_type": "code",
   "execution_count": null,
   "metadata": {},
   "outputs": [],
   "source": [
    "#### Environment Setup"
   ]
  },
  {
   "cell_type": "code",
   "execution_count": null,
   "metadata": {},
   "outputs": [],
   "source": [
    "print('Analysis by Manan Arora')"
   ]
  },
  {
   "cell_type": "markdown",
   "metadata": {},
   "source": [
    "Website: https://www.aroramanan.in"
   ]
  },
  {
   "cell_type": "markdown",
   "metadata": {},
   "source": [
    "## Analyzing - Indian Agricultural Production, Soil Nutrient Deficiencies & Fertilizer Uasge"
   ]
  },
  {
   "cell_type": "markdown",
   "metadata": {},
   "source": [
    "#### Points to Note:\n",
    "\n",
    "- All the Production Statistics are cummulative for the period - 2013-18 (Source: https://aps.dac.gov.in/APY/Index.htm)\n",
    "- All the Soil Nutrient Statistics are based on Soil Health Cards for Cycle - 2015-16 (Source: https://soilhealth.dac.gov.in/NewHomePage/NutriPage)\n",
    "- All the Fertlizer Usage Statistics are based on Cost of Cultivation Survey Data - 2005-16 (Source: http://eands.dacnet.nic.in/Cost_of_Cultivation.htm) "
   ]
  },
  {
   "cell_type": "code",
   "execution_count": null,
   "metadata": {},
   "outputs": [],
   "source": [
    "import pandas as pd\n",
    "import numpy as np\n",
    "import matplotlib.pyplot as plt\n",
    "import seaborn as sns\n",
    "%matplotlib inline\n",
    "import plotly.graph_objects as go\n",
    "import plotly.express as px"
   ]
  },
  {
   "cell_type": "code",
   "execution_count": null,
   "metadata": {},
   "outputs": [],
   "source": [
    "#### Loading Datasets"
   ]
  },
  {
   "cell_type": "code",
   "execution_count": null,
   "metadata": {},
   "outputs": [],
   "source": [
    "subdist_db = pd.read_csv(r'C:/Users/Manan Arora/Desktop/AgriTech Project/Data Driven Business Metrics Project/FinalSubDistData/SubDist-CompiledFinal_New.csv')\n",
    "apy_db = pd.read_csv(r'C:/Users/Manan Arora/Desktop/AgriTech Project/Data Driven Business Metrics Project/Data/APY/APY_13_14_to_17_18.csv')\n",
    "cost_db = pd.read_csv('C:/Users/Manan Arora/Desktop/AgriTech Project/Data Driven Business Metrics Project/FinalSubDistData/CoC-AllCombined_New.csv')\n",
    "soil_macro = pd.read_csv(r'C:\\Users\\Manan Arora\\Desktop\\AgriTech Project\\Data Driven Business Metrics Project\\Data\\Soil Data\\SoilMacroNutrients_Aggregated.csv')\n",
    "soil_micro = pd.read_csv(r'C:\\Users\\Manan Arora\\Desktop\\AgriTech Project\\Data Driven Business Metrics Project\\Data\\Soil Data\\SoilMicroNutrients_Aggregated.csv')"
   ]
  },
  {
   "cell_type": "code",
   "execution_count": null,
   "metadata": {},
   "outputs": [],
   "source": [
    "cost_db['State'] = cost_db['State'].replace('Jharkand','Jharkhand')\n",
    "cost_db['State'] = cost_db['State'].replace('Chattisgarh', 'Chhattisgarh')"
   ]
  },
  {
   "cell_type": "code",
   "execution_count": null,
   "metadata": {},
   "outputs": [],
   "source": [
    "columns = ['fertn_kg','fertp_kg','fertk_kg','fertoth_kg','ferttotal_kg','manure_qtl','insecticide_rs']\n",
    "cost_db.loc[:,columns] = cost_db.loc[:,columns].div(cost_db['croparea_ha'], axis=0)\n",
    "for col in columns: \n",
    "    cost_db[col] = cost_db[col].replace([np.inf, -np.inf],0)"
   ]
  },
  {
   "cell_type": "code",
   "execution_count": null,
   "metadata": {},
   "outputs": [],
   "source": [
    "#### Overall Crop Production - Crop Category Wise"
   ]
  },
  {
   "cell_type": "code",
   "execution_count": null,
   "metadata": {},
   "outputs": [],
   "source": [
    "india_crops = apy_db.groupby(['Crop_category','Crop_name'],sort=True).agg({'Production':'sum'}).reset_index()\n",
    "india_crops['%Production'] = ((india_crops['Production']/sum(india_crops['Production']))*100).round(2)\n",
    "fig = px.sunburst(india_crops, path=['Crop_category', 'Crop_name'], values='%Production', hover_data=['%Production'])\n",
    "fig.update_layout(title={'text':\"Overall Production Distribution by Crop Category<br><br><br>\",'y':0.9,'x':0.5,'xanchor': 'center','yanchor': 'top'})\n",
    "fig.show()"
   ]
  },
  {
   "cell_type": "code",
   "execution_count": null,
   "metadata": {},
   "outputs": [],
   "source": [
    "#### Crop List State Wise in India"
   ]
  },
  {
   "cell_type": "code",
   "execution_count": null,
   "metadata": {},
   "outputs": [],
   "source": [
    "state_crops = apy_db.groupby(['State_code','State_name']).agg({'Crop_code':'nunique','Crop_name':','.join}).reset_index()\n",
    "state_crops.rename(columns={'Crop_code':'CropCount','Crop_name':'CropList'},inplace = True)\n",
    "state_crops['CropList'] = state_crops['CropList'].str.split(',').apply(lambda x: set(x))\n",
    "state_crops['CropList'] = state_crops['CropList'].astype(str)\n",
    "fig = go.Figure(data=[go.Table(\n",
    "    columnwidth = [50,50,400],\n",
    "    header=dict(values=list(['State_name','Crop Count','Crop List']),\n",
    "                fill_color='paleturquoise',\n",
    "                align='center'),\n",
    "    cells=dict(values=[state_crops.State_name, state_crops.CropCount, state_crops.CropList],\n",
    "               fill_color='lavender',\n",
    "               align='left'))\n",
    "])\n",
    "fig.update_layout(title={'text':\"Crop List State Wise\",'y':0.9,'x':0.5,'xanchor': 'center','yanchor': 'top'})\n",
    "fig.show()"
   ]
  },
  {
   "cell_type": "code",
   "execution_count": null,
   "metadata": {},
   "outputs": [],
   "source": [
    "#### Crop List District Wise"
   ]
  },
  {
   "cell_type": "code",
   "execution_count": null,
   "metadata": {},
   "outputs": [],
   "source": [
    "dist_crops = apy_db.groupby(['State_code','State_name','District_code','District_name']).agg({'Crop_code':'nunique','Crop_name':','.join}).reset_index()\n",
    "dist_crops.rename(columns={'Crop_code':'CropCount','Crop_name':'CropList'},inplace = True)\n",
    "dist_crops['CropList'] = dist_crops['CropList'].str.split(',').apply(lambda x: set(x))\n",
    "dist_crops['CropList'] = dist_crops['CropList'].astype(str)\n",
    "fig = go.Figure(data=[go.Table(\n",
    "    columnwidth = [50,50,50,400],\n",
    "    header=dict(values=list(['State','District','Crop Count','Crop List']),\n",
    "                fill_color='paleturquoise',\n",
    "                align='center'),\n",
    "    cells=dict(values=[dist_crops.State_name, dist_crops.District_name,dist_crops.CropCount, state_crops.CropList],\n",
    "               fill_color='lavender',\n",
    "               align='left'))\n",
    "])\n",
    "fig.update_layout(title={'text':\"Crop List District Wise\",'y':0.9,'x':0.5,'xanchor': 'center','yanchor': 'top'})\n",
    "fig.show()"
   ]
  },
  {
   "cell_type": "code",
   "execution_count": null,
   "metadata": {},
   "outputs": [],
   "source": [
    "#### Breakup of Production for each Category - State Wise"
   ]
  },
  {
   "cell_type": "code",
   "execution_count": null,
   "metadata": {},
   "outputs": [],
   "source": [
    "##### Cereals"
   ]
  },
  {
   "cell_type": "code",
   "execution_count": null,
   "metadata": {},
   "outputs": [],
   "source": [
    "top_crop_cat_sw = apy_db.groupby(['State_code','State_name','Crop_category','Crop_name'],sort=True).agg({'Production':'sum'}).reset_index()\n",
    "top_crop_cat_sw = top_crop_cat_sw[top_crop_cat_sw['Crop_category'] =='Cereals']\n",
    "top_crop_cat_sw['%Production'] = ((top_crop_cat_sw['Production']/sum(top_crop_cat_sw['Production']))*100).round(2)\n",
    "fig = px.treemap(top_crop_cat_sw, path=['State_name','Crop_name'], values='%Production', hover_data=['Production'])\n",
    "fig.data[0].textinfo = 'label+text+value'\n",
    "fig.update_layout(title={'text':\"Breakup - Cereals Production in Indian States\",'y':0.9,'x':0.5,'xanchor': 'center','yanchor': 'top'})\n",
    "fig.show()"
   ]
  },
  {
   "cell_type": "code",
   "execution_count": null,
   "metadata": {},
   "outputs": [],
   "source": [
    "##### Pulses"
   ]
  },
  {
   "cell_type": "code",
   "execution_count": null,
   "metadata": {},
   "outputs": [],
   "source": [
    "top_crop_cat_sw = apy_db.groupby(['State_code','State_name','Crop_category','Crop_name'],sort=True).agg({'Production':'sum'}).reset_index()\n",
    "top_crop_cat_sw = top_crop_cat_sw[top_crop_cat_sw['Crop_category'] =='Pulses']\n",
    "top_crop_cat_sw['%Production'] = ((top_crop_cat_sw['Production']/sum(top_crop_cat_sw['Production']))*100).round(2)\n",
    "fig = px.treemap(top_crop_cat_sw, path=['State_name','Crop_name'], values='%Production', hover_data=['Production'])\n",
    "fig.data[0].textinfo = 'label+text+value'\n",
    "fig.update_layout(title={'text':\"Break Up - Pulses Production in Indian States\",'y':0.9,'x':0.5,'xanchor': 'center','yanchor': 'top'})\n",
    "fig.show()"
   ]
  },
  {
   "cell_type": "code",
   "execution_count": null,
   "metadata": {},
   "outputs": [],
   "source": [
    "##### Vegetables"
   ]
  },
  {
   "cell_type": "code",
   "execution_count": null,
   "metadata": {},
   "outputs": [],
   "source": [
    "top_crop_cat_sw = apy_db.groupby(['State_code','State_name','Crop_category','Crop_name'],sort=True).agg({'Production':'sum'}).reset_index()\n",
    "top_crop_cat_sw = top_crop_cat_sw[top_crop_cat_sw['Crop_category'] =='Vegetables']\n",
    "top_crop_cat_sw['%Production'] = ((top_crop_cat_sw['Production']/sum(top_crop_cat_sw['Production']))*100).round(2)\n",
    "fig = px.treemap(top_crop_cat_sw, path=['State_name','Crop_name'], values='%Production', hover_data=['Production'])\n",
    "fig.data[0].textinfo = 'label+text+value'\n",
    "fig.update_layout(title={'text':\"Break Up - Vegetables Production in Indian States\",'y':0.9,'x':0.5,'xanchor': 'center','yanchor': 'top'})\n",
    "fig.show()"
   ]
  },
  {
   "cell_type": "code",
   "execution_count": null,
   "metadata": {},
   "outputs": [],
   "source": [
    "##### Fruits"
   ]
  },
  {
   "cell_type": "code",
   "execution_count": null,
   "metadata": {},
   "outputs": [],
   "source": [
    "top_crop_cat_sw = apy_db.groupby(['State_code','State_name','Crop_category'],sort=True).agg({'Production':'sum'}).reset_index()\n",
    "top_crop_cat_sw = top_crop_cat_sw[top_crop_cat_sw['Crop_category'] =='Fruits']\n",
    "top_crop_cat_sw['%Producion'] = ((top_crop_cat_sw['Production']/sum(top_crop_cat_sw['Production']))*100).round(2)\n",
    "fig = px.treemap(top_crop_cat_sw, path=['State_name'], values='%Producion', hover_data=['Production'])\n",
    "fig.data[0].textinfo = 'label+text+value'\n",
    "fig.update_layout(title={'text':\"Break up - Bananas Production in Indian States\",'y':0.9,'x':0.5,'xanchor': 'center','yanchor': 'top'})\n",
    "fig.show()"
   ]
  },
  {
   "cell_type": "code",
   "execution_count": null,
   "metadata": {},
   "outputs": [],
   "source": [
    "##### Spices"
   ]
  },
  {
   "cell_type": "code",
   "execution_count": null,
   "metadata": {},
   "outputs": [],
   "source": [
    "top_crop_cat_sw = apy_db.groupby(['State_code','State_name','Crop_category','Crop_name'],sort=True).agg({'Production':'sum'}).reset_index()\n",
    "top_crop_cat_sw = top_crop_cat_sw[top_crop_cat_sw['Crop_category'] =='Spices']\n",
    "top_crop_cat_sw['%Production'] = ((top_crop_cat_sw['Production']/sum(top_crop_cat_sw['Production']))*100).round(2)\n",
    "fig = px.treemap(top_crop_cat_sw, path=['State_name','Crop_name'], values='%Production', hover_data=['Production'])\n",
    "fig.data[0].textinfo = 'label+text+value'\n",
    "fig.update_layout(title={'text':\"Break Up - Spices Production in Indian States\",'y':0.9,'x':0.5,'xanchor': 'center','yanchor': 'top'})\n",
    "fig.show()"
   ]
  },
  {
   "cell_type": "code",
   "execution_count": null,
   "metadata": {},
   "outputs": [],
   "source": [
    "##### Sugar"
   ]
  },
  {
   "cell_type": "code",
   "execution_count": null,
   "metadata": {},
   "outputs": [],
   "source": [
    "top_crop_cat_sw = apy_db.groupby(['State_code','State_name','Crop_category'],sort=True).agg({'Production':'sum'}).reset_index()\n",
    "top_crop_cat_sw = top_crop_cat_sw[top_crop_cat_sw['Crop_category'] =='Sugar']\n",
    "top_crop_cat_sw['%Producion'] = ((top_crop_cat_sw['Production']/sum(top_crop_cat_sw['Production']))*100).round(2)\n",
    "fig = px.treemap(top_crop_cat_sw, path=['State_name'], values='%Producion', hover_data=['Production'])\n",
    "fig.data[0].textinfo = 'label+text+value'\n",
    "fig.update_layout(title={'text':\"Break Up - Sugarcane Production in Indian States\",'y':0.9,'x':0.5,'xanchor': 'center','yanchor': 'top'})\n",
    "fig.show()"
   ]
  },
  {
   "cell_type": "code",
   "execution_count": null,
   "metadata": {},
   "outputs": [],
   "source": [
    "top_crop_cat_sw = apy_db.groupby(['State_code','State_name','Crop_category'],sort=True).agg({'Production':'sum'}).reset_index()\n",
    "top_crop_cat_sw = top_crop_cat_sw[top_crop_cat_sw['Crop_category'] =='Dry Fruits']\n",
    "top_crop_cat_sw['%Producion'] = ((top_crop_cat_sw['Production']/sum(top_crop_cat_sw['Production']))*100).round(2)\n",
    "fig = px.treemap(top_crop_cat_sw, path=['State_name'], values='%Producion', hover_data=['Production'])\n",
    "fig.data[0].textinfo = 'label+text+value'\n",
    "fig.update_layout(title={'text':\"Break Up - Cashew Production in Indian States\",'y':0.9,'x':0.5,'xanchor': 'center','yanchor': 'top'})\n",
    "fig.show()"
   ]
  },
  {
   "cell_type": "code",
   "execution_count": null,
   "metadata": {},
   "outputs": [],
   "source": [
    "top_crop_cat_sw = apy_db.groupby(['State_code','State_name','Crop_category','Crop_name'],sort=True).agg({'Production':'sum'}).reset_index()\n",
    "top_crop_cat_sw = top_crop_cat_sw[top_crop_cat_sw['Crop_category'] =='Oilseeds']\n",
    "top_crop_cat_sw['%Production'] = ((top_crop_cat_sw['Production']/sum(top_crop_cat_sw['Production']))*100).round(2)\n",
    "fig = px.treemap(top_crop_cat_sw, path=['State_name','Crop_name'], values='%Production', hover_data=['Production'])\n",
    "fig.data[0].textinfo = 'label+text+value'\n",
    "fig.update_layout(title={'text':\"Break Up - Oilseeds Production in Indian States\",'y':0.9,'x':0.5,'xanchor': 'center','yanchor': 'top'})\n",
    "fig.show()"
   ]
  },
  {
   "cell_type": "code",
   "execution_count": null,
   "metadata": {},
   "outputs": [],
   "source": [
    "top_crop_cat_sw = apy_db.groupby(['State_code','State_name','Crop_category','Crop_name'],sort=True).agg({'Production':'sum'}).reset_index()\n",
    "top_crop_cat_sw = top_crop_cat_sw[top_crop_cat_sw['Crop_category'] =='Fiber Crop']\n",
    "top_crop_cat_sw['%Production'] = ((top_crop_cat_sw['Production']/sum(top_crop_cat_sw['Production']))*100).round(2)\n",
    "fig = px.treemap(top_crop_cat_sw, path=['State_name','Crop_name'], values='%Production', hover_data=['Production'])\n",
    "fig.data[0].textinfo = 'label+text+value'\n",
    "fig.update_layout(title={'text':\"Break Up - Fiber Crops Production in Indian States\",'y':0.9,'x':0.5,'xanchor': 'center','yanchor': 'top'})\n",
    "fig.show()"
   ]
  },
  {
   "cell_type": "code",
   "execution_count": null,
   "metadata": {},
   "outputs": [],
   "source": [
    "top_crop_cat_sw = apy_db.groupby(['State_code','State_name','Crop_category','Crop_name'],sort=True).agg({'Production':'sum'}).reset_index()\n",
    "top_crop_cat_sw = top_crop_cat_sw[top_crop_cat_sw['Crop_category'] =='Drug and Narcotics']\n",
    "top_crop_cat_sw['%Production'] = ((top_crop_cat_sw['Production']/sum(top_crop_cat_sw['Production']))*100).round(2)\n",
    "fig = px.treemap(top_crop_cat_sw, path=['State_name','Crop_name'], values='%Production', hover_data=['Production'])\n",
    "fig.data[0].textinfo = 'label+text+value'\n",
    "fig.update_layout(title={'text':\"Break Up - Drugs and Narcotics Crops Production in Indian States\",'y':0.9,'x':0.5,'xanchor': 'center','yanchor': 'top'})\n",
    "fig.show()"
   ]
  },
  {
   "cell_type": "code",
   "execution_count": null,
   "metadata": {},
   "outputs": [],
   "source": [
    "#### Top Crop in each Category - State Wise - Based on Total Production"
   ]
  },
  {
   "cell_type": "code",
   "execution_count": null,
   "metadata": {},
   "outputs": [],
   "source": [
    "top_crop_cat_sw = apy_db.groupby(['State_code','State_name','Crop_category','Crop_code','Crop_name'],sort=True).agg({'Production':'sum'}).reset_index()\n",
    "top_crop_cat_sw = top_crop_cat_sw.set_index(['Crop_code','Crop_name']).groupby(['State_code','State_name','Crop_category'])['Production'].nlargest(1).reset_index()\n",
    "top_crop_cat_sw.rename(columns={'Production':'Total_Production'},inplace=True)"
   ]
  },
  {
   "cell_type": "code",
   "execution_count": null,
   "metadata": {},
   "outputs": [],
   "source": [
    "#### Top Crop in each Category - District Wise - Based on Total Production"
   ]
  },
  {
   "cell_type": "code",
   "execution_count": null,
   "metadata": {},
   "outputs": [],
   "source": [
    "top_crop_cat_dw = apy_db.groupby(['State_code','State_name','District_code','District_name','Crop_category','Crop_code','Crop_name'],sort=True).agg({'Production':'sum'}).reset_index()\n",
    "top_crop_cat_dw = top_crop_cat_dw.set_index(['Crop_code','Crop_name']).groupby(['State_code','State_name','District_code','District_name','Crop_category'])['Production'].nlargest(1).reset_index()\n",
    "top_crop_cat_dw.rename(columns={'Production':'Crop_Production'},inplace=True)"
   ]
  },
  {
   "cell_type": "code",
   "execution_count": null,
   "metadata": {},
   "outputs": [],
   "source": [
    "#### Top 5 Crops State Wise in India - Based on Average Yield"
   ]
  },
  {
   "cell_type": "code",
   "execution_count": null,
   "metadata": {},
   "outputs": [],
   "source": [
    "top5_state = apy_db.groupby(['State_code','State_name','Crop_code','Crop_name'],sort=True).agg({'Yield':'mean'}).reset_index()\n",
    "top5_state_c = top5_state.set_index(['Crop_code','Crop_name']).groupby(['State_code','State_name'])['Yield'].nlargest(5).reset_index()\n",
    "top5_state_c.rename(columns={'Yield':'Average_Yield'},inplace=True)"
   ]
  },
  {
   "cell_type": "code",
   "execution_count": null,
   "metadata": {},
   "outputs": [],
   "source": [
    "top5_state_a = top5_state_c.groupby(['State_code','State_name']).agg({'Crop_name':','.join}).reset_index()\n",
    "top5_state_a.rename(columns={'Crop_name':'CropList'},inplace=True)\n",
    "top5_state_a['CropList'] = top5_state_a['CropList'].str.split(',').apply(lambda x: set(x))"
   ]
  },
  {
   "cell_type": "code",
   "execution_count": null,
   "metadata": {},
   "outputs": [],
   "source": [
    "#### Top 5 Crops District Wise in India - Based on Average Yield"
   ]
  },
  {
   "cell_type": "code",
   "execution_count": null,
   "metadata": {},
   "outputs": [],
   "source": [
    "top5_dist = apy_db.groupby(['State_code','State_name','District_code','District_name','Crop_code','Crop_name'],sort=True).agg({'Yield':'mean'}).reset_index()\n",
    "top5_dist_c = top5_dist.set_index(['Crop_code','Crop_name']).groupby(['State_code','State_name','District_code','District_name'])['Yield'].nlargest(5).reset_index()\n",
    "top5_dist_c.rename(columns={'Yield':'Average_Yield'},inplace=True)"
   ]
  },
  {
   "cell_type": "code",
   "execution_count": null,
   "metadata": {},
   "outputs": [],
   "source": [
    "top5_dist_a = top5_dist_c.groupby(['State_code','State_name','District_code','District_name']).agg({'Crop_name':','.join}).reset_index()\n",
    "top5_dist_a.rename(columns={'Crop_name':'CropList'},inplace=True)\n",
    "top5_dist_a['CropList'] = top5_dist_a['CropList'].str.split(',').apply(lambda x: set(x))"
   ]
  },
  {
   "cell_type": "code",
   "execution_count": null,
   "metadata": {},
   "outputs": [],
   "source": [
    "writer = pd.ExcelWriter(r'C:\\Users\\Manan Arora\\Desktop\\AgriTech Project\\Data Driven Business Metrics Project\\StateWiseCropAnalysis_PD.xlsx', engine='xlsxwriter')\n",
    "top_crop_cat_sw.to_excel(writer,sheet_name='SW-TopCrop-Cat',index=False)\n",
    "top_crop_cat_dw.to_excel(writer,sheet_name='DW-TopCrop-Cat',index=False)\n",
    "top5_state_c.to_excel(writer,sheet_name='SW-Top5-Exp',index=False)\n",
    "top5_state_a.to_excel(writer,sheet_name='SW-Top5-Agg',index=False)\n",
    "top5_dist_c.to_excel(writer,sheet_name='DW-Top5-Exp',index=False)\n",
    "top5_dist_a.to_excel(writer,sheet_name='DW-Top5-Agg',index=False)\n",
    "writer.save()\n",
    "#print('Result are Saved in Excel')"
   ]
  },
  {
   "cell_type": "code",
   "execution_count": null,
   "metadata": {},
   "outputs": [],
   "source": [
    "#### Gaphs of Average Yield Across States in Diffferent Crop Categories"
   ]
  },
  {
   "cell_type": "code",
   "execution_count": null,
   "metadata": {},
   "outputs": [],
   "source": [
    "cat_yield_sw = apy_db.pivot_table(index=['State_code','State_name'],columns='Crop_category',values='Yield',aggfunc='mean').reset_index().fillna(0)\n",
    "cat_area_sw = apy_db.pivot_table(index=['State_code','State_name'],columns='Crop_category',values='Area',aggfunc='sum').reset_index().fillna(0)\n",
    "cat_prod_sw = apy_db.pivot_table(index=['State_code','State_name'],columns='Crop_category',values='Production',aggfunc='sum').reset_index().fillna(0)"
   ]
  },
  {
   "cell_type": "code",
   "execution_count": null,
   "metadata": {},
   "outputs": [],
   "source": [
    "##### Crop Category: Cereals"
   ]
  },
  {
   "cell_type": "code",
   "execution_count": null,
   "metadata": {},
   "outputs": [],
   "source": [
    "fig = go.Figure(data=[go.Bar(\n",
    "            x=cat_yield_sw['State_name'], y=cat_yield_sw['Cereals'],\n",
    "            text=cat_yield_sw['Cereals'].round(decimals=2),\n",
    "            textposition='auto',\n",
    "            hovertext='Yield (Tonnes/Hectare)',\n",
    "    )])\n",
    "fig.update_layout(title={'text':\"State Wise Average Yield of Cereals\",'y':0.9,'x':0.5,'xanchor': 'center','yanchor': 'top'},\n",
    "                  xaxis_title=\"States\", yaxis_title=\"Yield\",\n",
    "                  xaxis={'categoryorder':'total descending'})\n",
    "fig.show()"
   ]
  },
  {
   "cell_type": "code",
   "execution_count": null,
   "metadata": {},
   "outputs": [],
   "source": [
    "##### Crop Category: Vegetables"
   ]
  },
  {
   "cell_type": "code",
   "execution_count": null,
   "metadata": {},
   "outputs": [],
   "source": [
    "fig = go.Figure(data=[go.Bar(\n",
    "            x=cat_yield_sw['State_name'], y=cat_yield_sw['Vegetables'],\n",
    "            text=cat_yield_sw['Vegetables'].round(decimals=2),\n",
    "            textposition='auto',\n",
    "            hovertext='Yield (Tonnes/Hectare)',\n",
    "    )])\n",
    "fig.update_layout(title={'text':\"State Wise Average Yield of Vegetables\",'y':0.9,'x':0.5,'xanchor': 'center','yanchor': 'top'},\n",
    "                  xaxis_title=\"States\", yaxis_title=\"Yield\",\n",
    "                  xaxis={'categoryorder':'total descending'})\n",
    "fig.show()"
   ]
  },
  {
   "cell_type": "code",
   "execution_count": null,
   "metadata": {},
   "outputs": [],
   "source": [
    "##### Crop Category: Fruits"
   ]
  },
  {
   "cell_type": "code",
   "execution_count": null,
   "metadata": {},
   "outputs": [],
   "source": [
    "fig = go.Figure(data=[go.Bar(\n",
    "            x=cat_yield_sw['State_name'], y=cat_yield_sw['Fruits'],\n",
    "            text=cat_yield_sw['Fruits'].round(decimals=2),\n",
    "            textposition='auto',\n",
    "            hovertext='Yield (Tonnes/Hectare)',\n",
    "    )])\n",
    "fig.update_layout(title={'text':\"State Wise Average Yield of Fruits\",'y':0.9,'x':0.5,'xanchor': 'center','yanchor': 'top'},\n",
    "                  xaxis_title=\"States\", yaxis_title=\"Yield\",\n",
    "                  xaxis={'categoryorder':'total descending'})\n",
    "fig.show()"
   ]
  },
  {
   "cell_type": "code",
   "execution_count": null,
   "metadata": {},
   "outputs": [],
   "source": [
    "##### Crop Category: Sugar"
   ]
  },
  {
   "cell_type": "code",
   "execution_count": null,
   "metadata": {},
   "outputs": [],
   "source": [
    "fig = go.Figure(data=[go.Bar(\n",
    "            x=cat_yield_sw['State_name'], y=cat_yield_sw['Sugar'],\n",
    "            text=cat_yield_sw['Sugar'].round(decimals=2),\n",
    "            textposition='auto',\n",
    "            hovertext='Yield (Tonnes/Hectare)',\n",
    "    )])\n",
    "fig.update_layout(title={'text':\"State Wise Average Yield of Sugar\",'y':0.9,'x':0.5,'xanchor': 'center','yanchor': 'top'},\n",
    "                  xaxis_title=\"States\", yaxis_title=\"Yield\",\n",
    "                  xaxis={'categoryorder':'total descending'})\n",
    "fig.show()"
   ]
  },
  {
   "cell_type": "code",
   "execution_count": null,
   "metadata": {},
   "outputs": [],
   "source": [
    "##### Crop Category: Pulses"
   ]
  },
  {
   "cell_type": "code",
   "execution_count": null,
   "metadata": {},
   "outputs": [],
   "source": [
    "fig = go.Figure(data=[go.Bar(\n",
    "            x=cat_yield_sw['State_name'], y=cat_yield_sw['Pulses'],\n",
    "            text=cat_yield_sw['Pulses'].round(decimals=2),\n",
    "            textposition='auto',\n",
    "            hovertext='Yield (Tonnes/Hectare)',\n",
    "    )])\n",
    "fig.update_layout(title={'text':\"State Wise Average Yield of Pulses\",'y':0.9,'x':0.5,'xanchor': 'center','yanchor': 'top'},\n",
    "                  xaxis_title=\"States\", yaxis_title=\"Yield\",\n",
    "                  xaxis={'categoryorder':'total descending'})\n",
    "fig.show()"
   ]
  },
  {
   "cell_type": "code",
   "execution_count": null,
   "metadata": {},
   "outputs": [],
   "source": [
    "##### Crop Category: Spices"
   ]
  },
  {
   "cell_type": "code",
   "execution_count": null,
   "metadata": {},
   "outputs": [],
   "source": [
    "fig = go.Figure(data=[go.Bar(\n",
    "            x=cat_yield_sw['State_name'], y=cat_yield_sw['Spices'],\n",
    "            text=cat_yield_sw['Spices'].round(decimals=2),\n",
    "            textposition='auto',\n",
    "            hovertext='Yield (Tonnes/Hectare)',\n",
    "    )])\n",
    "fig.update_layout(title={'text':\"State Wise Average Yield of Spices\",'y':0.9,'x':0.5,'xanchor': 'center','yanchor': 'top'},\n",
    "                  xaxis_title=\"States\", yaxis_title=\"Yield\",\n",
    "                  xaxis={'categoryorder':'total descending'})\n",
    "fig.show()"
   ]
  },
  {
   "cell_type": "code",
   "execution_count": null,
   "metadata": {},
   "outputs": [],
   "source": [
    "#### Average N P K Soil Nutrient Deficiencies and Comparison with Fertilizer Usage - State Wise"
   ]
  },
  {
   "cell_type": "code",
   "execution_count": null,
   "metadata": {},
   "outputs": [],
   "source": [
    "fert_use_db = cost_db.groupby('State').agg({'fertn_kg':'mean','fertk_kg':'mean','fertp_kg':'mean','fertoth_kg':'mean','manure_qtl':'mean','insecticide_rs':'mean'}).reset_index()\n",
    "soil_macrodef_db = soil_macro.groupby('State').agg({'N_D':'mean','OC_D':'mean','P_D':'mean','K_D':'mean'}).reset_index()\n",
    "soil_microdef_db = soil_micro.groupby('State').agg({'Zn_D':'mean','Fe_D':'mean','Mn_D':'mean','Cu_D':'mean','B_D':'mean'}).reset_index()\n",
    "soil_data_sw = fert_use_db.merge(soil_macrodef_db,on='State').merge(soil_microdef_db,on='State')"
   ]
  },
  {
   "cell_type": "code",
   "execution_count": null,
   "metadata": {},
   "outputs": [],
   "source": [
    "#### Nitrogen"
   ]
  },
  {
   "cell_type": "code",
   "execution_count": null,
   "metadata": {},
   "outputs": [],
   "source": [
    "trace0 = go.Bar(x = soil_data_sw['State'], y=soil_data_sw['N_D'],showlegend=False,text='Soil Nitrogen Deficiency Percentage')\n",
    "trace1 = go.Bar(x = soil_data_sw['State'], y=[0],showlegend=False,hoverinfo='none')\n",
    "trace2 = go.Bar(x = soil_data_sw['State'], y=[0], yaxis='y2',showlegend=False,hoverinfo='none')\n",
    "trace3 = go.Bar(x = soil_data_sw['State'], y=soil_data_sw['fertn_kg'],yaxis='y2',showlegend=False, text='Average Nitrogen Fertlizer Used - Kg/Ha')\n",
    "data = [trace0,trace1,trace2,trace3]#,trace2\n",
    "layout = go.Layout(barmode='group',\n",
    "                   yaxis=dict(title='% N Deficiency in Soil'),\n",
    "                   yaxis2=dict(title = 'Average N Fertilizer Used (Kg/Ha)',\n",
    "                               overlaying = 'y',\n",
    "                               side='right'))\n",
    "fig = go.Figure(data=data, layout=layout)\n",
    "fig.update_layout(title={'text':\"Soil Nitrogen Deficiency in % & Nitrogen Fertilizer Used in Kilogram/Hectare\",'y':0.9,'x':0.5,'xanchor': 'center','yanchor': 'top'},\n",
    "                  xaxis_title=\"States\", xaxis={'categoryorder':'total descending'})\n",
    "fig.show()"
   ]
  },
  {
   "cell_type": "code",
   "execution_count": null,
   "metadata": {},
   "outputs": [],
   "source": [
    "##### Potassium"
   ]
  },
  {
   "cell_type": "code",
   "execution_count": null,
   "metadata": {},
   "outputs": [],
   "source": [
    "trace0 = go.Bar(x = soil_data_sw['State'], y=soil_data_sw['K_D'],showlegend=False,text='Soil Potassium Deficiency Percentage')\n",
    "trace1 = go.Bar(x = soil_data_sw['State'], y=[0],showlegend=False,hoverinfo='none')\n",
    "trace2 = go.Bar(x = soil_data_sw['State'], y=[0], yaxis='y2',showlegend=False,hoverinfo='none')\n",
    "trace3 = go.Bar(x = soil_data_sw['State'], y=soil_data_sw['fertk_kg'],yaxis='y2',showlegend=False, text='Average Potassium Fertlizer Used - Kg/Ha')\n",
    "data = [trace0,trace1,trace2,trace3]#,trace2\n",
    "layout = go.Layout(barmode='group',\n",
    "                   yaxis=dict(title='% K  Deficiency in Soil'),\n",
    "                   yaxis2=dict(title = 'Average K Fertilizer Used (Kg/Ha)',\n",
    "                               overlaying = 'y',\n",
    "                               side='right'))\n",
    "fig = go.Figure(data=data, layout=layout)\n",
    "fig.update_layout(title={'text':\"Soil Potassium Deficiency in % & Potassium Fertilizer Used in Kilogram/Hectare\",'y':0.9,'x':0.5,'xanchor': 'center','yanchor': 'top'},\n",
    "                  xaxis_title=\"States\", xaxis={'categoryorder':'total descending'})\n",
    "fig.show()"
   ]
  },
  {
   "cell_type": "code",
   "execution_count": null,
   "metadata": {},
   "outputs": [],
   "source": [
    "##### Phosphorous"
   ]
  },
  {
   "cell_type": "code",
   "execution_count": null,
   "metadata": {},
   "outputs": [],
   "source": [
    "trace0 = go.Bar(x = soil_data_sw['State'], y=soil_data_sw['P_D'],showlegend=False,text='Soil Phosphorous Deficiency Percentage')\n",
    "trace1 = go.Bar(x = soil_data_sw['State'], y=[0],showlegend=False,hoverinfo='none')\n",
    "trace2 = go.Bar(x = soil_data_sw['State'], y=[0], yaxis='y2',showlegend=False,hoverinfo='none')\n",
    "trace3 = go.Bar(x = soil_data_sw['State'], y=soil_data_sw['fertp_kg'],yaxis='y2',showlegend=False, text='Average Phosphorous Fertlizer Used - Kg/Ha')\n",
    "data = [trace0,trace1,trace2,trace3]#,trace2\n",
    "layout = go.Layout(barmode='group',\n",
    "                   yaxis=dict(title='% P  Deficiency in Soil'),\n",
    "                   yaxis2=dict(title = 'Average P Fertilizer Used (Kg/Ha)',\n",
    "                               overlaying = 'y',\n",
    "                               side='right'))\n",
    "fig = go.Figure(data=data, layout=layout)\n",
    "fig.update_layout(title={'text':\"Soil Phosphorous Deficiency in % & Phosphorous Fertilizer Used in Kilogram/Hectare\",'y':0.9,'x':0.5,'xanchor': 'center','yanchor': 'top'},\n",
    "                  xaxis_title=\"States\", xaxis={'categoryorder':'total descending'})\n",
    "fig.show()"
   ]
  },
  {
   "cell_type": "code",
   "execution_count": null,
   "metadata": {},
   "outputs": [],
   "source": [
    "#### Breakdown of Fertilzer Usage(Kg/Ha) - State Wise"
   ]
  },
  {
   "cell_type": "code",
   "execution_count": null,
   "metadata": {},
   "outputs": [],
   "source": [
    "fig = go.Figure(data=[\n",
    "    go.Bar(name= 'Nitrogen Fertilizers', x=fert_use_db['State'], y= fert_use_db['fertn_kg']),\n",
    "    go.Bar(name='Phosphorus Fertilizers', x=fert_use_db['State'], y= fert_use_db['fertp_kg']),\n",
    "    go.Bar(name='Potassium Fertilizers', x=fert_use_db['State'], y= fert_use_db['fertk_kg']),\n",
    "    go.Bar(name='Others Fertilizers', x=fert_use_db['State'], y= fert_use_db['fertoth_kg']),\n",
    "])\n",
    "\n",
    "fig.update_layout(barmode='stack',title={'text':\"State Wise Fertiliser Used in Kilogram per Hectare\",'y':0.9,'x':0.5,'xanchor': 'center','yanchor': 'top'},\n",
    "                  xaxis_title=\"States\", yaxis_title=\"Kg/Hectare\",\n",
    "                  xaxis={'categoryorder':'total descending'})\n",
    "\n",
    "fig.show()"
   ]
  },
  {
   "cell_type": "code",
   "execution_count": null,
   "metadata": {},
   "outputs": [],
   "source": [
    "#### Instecticide Use (Rs/Ha)- State Wise "
   ]
  },
  {
   "cell_type": "code",
   "execution_count": null,
   "metadata": {},
   "outputs": [],
   "source": [
    "fig = go.Figure(data=[go.Bar(\n",
    "            x=fert_use_db['State'], y=fert_use_db['insecticide_rs'],\n",
    "            text=fert_use_db['insecticide_rs'].round(decimals=2),\n",
    "            textposition='auto',\n",
    "    )])\n",
    "fig.update_layout(title={'text':\"State Wise Insecticide Used in Rupees per Hectare\",'y':0.9,'x':0.5,'xanchor': 'center','yanchor': 'top'},\n",
    "                  xaxis_title=\"States\", yaxis_title=\"Rs/Hectare\",\n",
    "                  xaxis={'categoryorder':'total descending'})\n",
    "fig.show()"
   ]
  },
  {
   "cell_type": "code",
   "execution_count": null,
   "metadata": {},
   "outputs": [],
   "source": [
    "#### Manure Used (Qtl/Ha) - State Wise"
   ]
  },
  {
   "cell_type": "code",
   "execution_count": null,
   "metadata": {},
   "outputs": [],
   "source": [
    "fig = go.Figure(data=[go.Bar(\n",
    "            x=fert_use_db['State'], y=fert_use_db['manure_qtl'],\n",
    "            text=fert_use_db['manure_qtl'].round(decimals=2),\n",
    "            textposition='auto',\n",
    "    )])\n",
    "fig.update_layout(title={'text':\"State Wise Manure Used in Qunital per Hectare\",'y':0.9,'x':0.5,'xanchor': 'center','yanchor': 'top'},\n",
    "                  xaxis_title=\"States\", yaxis_title=\"Qtl/Hectare\",\n",
    "                  xaxis={'categoryorder':'total descending'})\n",
    "fig.show()"
   ]
  },
  {
   "cell_type": "code",
   "execution_count": null,
   "metadata": {},
   "outputs": [],
   "source": [
    "#### Micro Nutrients and Organic Carbon Deficiency - State Wise"
   ]
  },
  {
   "cell_type": "code",
   "execution_count": null,
   "metadata": {},
   "outputs": [],
   "source": [
    "##### Zinc"
   ]
  },
  {
   "cell_type": "code",
   "execution_count": null,
   "metadata": {},
   "outputs": [],
   "source": [
    "fig = go.Figure(data=[go.Bar(\n",
    "            x=soil_microdef_db['State'], y=soil_microdef_db['Zn_D'],\n",
    "            text=soil_microdef_db['Zn_D'].round(decimals=2),\n",
    "            textposition='auto',\n",
    "    )])\n",
    "fig.update_layout(title={'text':\"State Wise % Zinc Deficiency in Soil\",'y':0.9,'x':0.5,'xanchor': 'center','yanchor': 'top'},\n",
    "                  xaxis_title=\"States\", yaxis_title=\"%\",\n",
    "                  xaxis={'categoryorder':'total descending'})\n",
    "fig.show()"
   ]
  },
  {
   "cell_type": "code",
   "execution_count": null,
   "metadata": {},
   "outputs": [],
   "source": [
    "##### Copper"
   ]
  },
  {
   "cell_type": "code",
   "execution_count": null,
   "metadata": {},
   "outputs": [],
   "source": [
    "fig = go.Figure(data=[go.Bar(\n",
    "            x=soil_microdef_db['State'], y=soil_microdef_db['Cu_D'],\n",
    "            text=soil_microdef_db['Cu_D'].round(decimals=2),\n",
    "            textposition='auto',\n",
    "    )])\n",
    "fig.update_layout(title={'text':\"State Wise % Copper Deficiency in Soil\",'y':0.9,'x':0.5,'xanchor': 'center','yanchor': 'top'},\n",
    "                  xaxis_title=\"States\", yaxis_title=\"%\",\n",
    "                  xaxis={'categoryorder':'total descending'})\n",
    "fig.show()"
   ]
  },
  {
   "cell_type": "code",
   "execution_count": null,
   "metadata": {},
   "outputs": [],
   "source": [
    "##### Iron "
   ]
  },
  {
   "cell_type": "code",
   "execution_count": null,
   "metadata": {},
   "outputs": [],
   "source": [
    "fig = go.Figure(data=[go.Bar(\n",
    "            x=soil_microdef_db['State'], y=soil_microdef_db['Fe_D'],\n",
    "            text=soil_microdef_db['Fe_D'].round(decimals=2),\n",
    "            textposition='auto',\n",
    "    )])\n",
    "fig.update_layout(title={'text':\"State Wise % Iron Deficiency in Soil\",'y':0.9,'x':0.5,'xanchor': 'center','yanchor': 'top'},\n",
    "                  xaxis_title=\"States\", yaxis_title=\"%\",\n",
    "                  xaxis={'categoryorder':'total descending'})\n",
    "fig.show()"
   ]
  },
  {
   "cell_type": "code",
   "execution_count": null,
   "metadata": {},
   "outputs": [],
   "source": [
    "##### Manganese"
   ]
  },
  {
   "cell_type": "code",
   "execution_count": null,
   "metadata": {},
   "outputs": [],
   "source": [
    "fig = go.Figure(data=[go.Bar(\n",
    "            x=soil_microdef_db['State'], y=soil_microdef_db['Mn_D'],\n",
    "            text=soil_microdef_db['Mn_D'].round(decimals=2),\n",
    "            textposition='auto',\n",
    "    )])\n",
    "fig.update_layout(title={'text':\"State Wise % Manganese Deficiency in Soil\",'y':0.9,'x':0.5,'xanchor': 'center','yanchor': 'top'},\n",
    "                  xaxis_title=\"States\", yaxis_title=\"%\",\n",
    "                  xaxis={'categoryorder':'total descending'})\n",
    "fig.show()"
   ]
  },
  {
   "cell_type": "code",
   "execution_count": null,
   "metadata": {},
   "outputs": [],
   "source": [
    "##### Boron"
   ]
  },
  {
   "cell_type": "code",
   "execution_count": null,
   "metadata": {},
   "outputs": [],
   "source": [
    "fig = go.Figure(data=[go.Bar(\n",
    "            x=soil_microdef_db['State'], y=soil_microdef_db['B_D'],\n",
    "            text=soil_microdef_db['B_D'].round(decimals=2),\n",
    "            textposition='auto',\n",
    "    )])\n",
    "fig.update_layout(title={'text':\"State Wise % Boron Deficiency in Soil\",'y':0.9,'x':0.5,'xanchor': 'center','yanchor': 'top'},\n",
    "                  xaxis_title=\"States\", yaxis_title=\"%\",\n",
    "                  xaxis={'categoryorder':'total descending'})\n",
    "fig.show()"
   ]
  },
  {
   "cell_type": "code",
   "execution_count": null,
   "metadata": {},
   "outputs": [],
   "source": [
    "##### Organic Carbon"
   ]
  },
  {
   "cell_type": "code",
   "execution_count": null,
   "metadata": {},
   "outputs": [],
   "source": [
    "fig = go.Figure(data=[go.Bar(\n",
    "            x=soil_macrodef_db['State'], y=soil_macrodef_db['OC_D'],\n",
    "            text=soil_macrodef_db['OC_D'].round(decimals=2),\n",
    "            textposition='auto',\n",
    "    )])\n",
    "fig.update_layout(title={'text':\"State Wise % Organic Carbon Deficiency in Soil\",'y':0.9,'x':0.5,'xanchor': 'center','yanchor': 'top'},\n",
    "                  xaxis_title=\"States\", yaxis_title=\"%\",\n",
    "                  xaxis={'categoryorder':'total descending'})\n",
    "fig.show()"
   ]
  }
 ],
 "metadata": {
  "kernelspec": {
   "display_name": "Python 3",
   "language": "python",
   "name": "python3"
  },
  "language_info": {
   "codemirror_mode": {
    "name": "ipython",
    "version": 3
   },
   "file_extension": ".py",
   "mimetype": "text/x-python",
   "name": "python",
   "nbconvert_exporter": "python",
   "pygments_lexer": "ipython3",
   "version": "3.7.6"
  }
 },
 "nbformat": 4,
 "nbformat_minor": 4
}
