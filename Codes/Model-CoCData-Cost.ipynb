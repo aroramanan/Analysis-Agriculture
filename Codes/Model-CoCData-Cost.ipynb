{
 "cells": [
  {
   "cell_type": "markdown",
   "metadata": {},
   "source": [
    "#### Environment Setup"
   ]
  },
  {
   "cell_type": "code",
   "execution_count": 40,
   "metadata": {},
   "outputs": [],
   "source": [
    "import pandas as pd\n",
    "from sklearn.preprocessing import StandardScaler\n",
    "from sklearn.pipeline import Pipeline\n",
    "from sklearn.linear_model import LinearRegression, ElasticNet\n",
    "from sklearn import svm\n",
    "from sklearn.ensemble import RandomForestRegressor\n",
    "from sklearn.tree import DecisionTreeRegressor\n",
    "from sklearn.model_selection import cross_val_score, cross_val_predict\n",
    "from sklearn.model_selection import train_test_split\n",
    "from sklearn.metrics import mean_squared_error\n",
    "import numpy as np\n",
    "import xgboost as xgb\n",
    "import seaborn as sns"
   ]
  },
  {
   "cell_type": "markdown",
   "metadata": {},
   "source": [
    "#### Loading Data"
   ]
  },
  {
   "cell_type": "code",
   "execution_count": 41,
   "metadata": {},
   "outputs": [],
   "source": [
    "data = pd.read_csv('C:/Users/Manan Arora/Desktop/AgriTech Project/Data Driven Business Metrics Project/FinalSubDistData/CoC-AllCombined_New.csv')\n",
    "data['chem_cost'] = data[['ferttotal_rs','manure_rs','insecticide_rs']].sum(axis=1)\n",
    "### Dropping Irrelevant Columns\n",
    "data_no_rs=  data[data.columns.drop(list(data.filter(regex='_rs')))]"
   ]
  },
  {
   "cell_type": "markdown",
   "metadata": {},
   "source": [
    "#### Modelling on Paddy Data"
   ]
  },
  {
   "cell_type": "code",
   "execution_count": 50,
   "metadata": {},
   "outputs": [
    {
     "name": "stdout",
     "output_type": "stream",
     "text": [
      "Number of Entries: 138096\n"
     ]
    }
   ],
   "source": [
    "data_cott = data_no_rs.loc[data_no_rs['crop'] == 'Paddy']\n",
    "print('Number of Entries: {}'.format(len(data_cott)))"
   ]
  },
  {
   "cell_type": "markdown",
   "metadata": {},
   "source": [
    "#### Preparing for the modelling"
   ]
  },
  {
   "cell_type": "code",
   "execution_count": 51,
   "metadata": {},
   "outputs": [],
   "source": [
    "#### Variable Choices\n",
    "cols_indep = ['N_D', 'OC_D', 'P_D', 'K_D', 'Zn_D', 'Fe_D', 'Cu_D', 'Mn_D', 'B_D','AS%', 'SrAc%', 'HAc%', \n",
    "              'MAc%', 'SlAc%', 'N%', 'MAl%', 'SlAl%','Temp', 'Rain']\n",
    "cols_dep =   ['chem_cost']"
   ]
  },
  {
   "cell_type": "code",
   "execution_count": 52,
   "metadata": {},
   "outputs": [],
   "source": [
    "#data_cott.loc[:,cols_indep] = data_cott.loc[:, cols_indep].div(data_cott['croparea_ha'], axis=0)\n",
    "#data_cott = data_cott.dropna()"
   ]
  },
  {
   "cell_type": "code",
   "execution_count": 53,
   "metadata": {},
   "outputs": [],
   "source": [
    "#sns.pairplot(data_cott,x_vars = cols_indep ,y_vars= cols_dep ,kind='reg')"
   ]
  },
  {
   "cell_type": "code",
   "execution_count": 54,
   "metadata": {},
   "outputs": [
    {
     "name": "stderr",
     "output_type": "stream",
     "text": [
      "C:\\Users\\Manan Arora\\anaconda3\\envs\\manan\\lib\\site-packages\\pandas\\core\\frame.py:4172: SettingWithCopyWarning: \n",
      "A value is trying to be set on a copy of a slice from a DataFrame\n",
      "\n",
      "See the caveats in the documentation: https://pandas.pydata.org/pandas-docs/stable/user_guide/indexing.html#returning-a-view-versus-a-copy\n",
      "  method=method,\n"
     ]
    }
   ],
   "source": [
    "data_cott.replace([np.inf, -np.inf], np.nan,inplace=True)\n",
    "data_cott = data_cott.dropna()"
   ]
  },
  {
   "cell_type": "code",
   "execution_count": 55,
   "metadata": {},
   "outputs": [
    {
     "data": {
      "text/plain": [
       "True"
      ]
     },
     "execution_count": 55,
     "metadata": {},
     "output_type": "execute_result"
    }
   ],
   "source": [
    "np.all(np.isfinite(X_train_sc))"
   ]
  },
  {
   "cell_type": "code",
   "execution_count": 56,
   "metadata": {},
   "outputs": [],
   "source": [
    "X=data_cott[cols_indep]\n",
    "y=data_cott['chem_cost']\n",
    "X_train, X_test, y_train, y_test = train_test_split(X, y, test_size=0.3, random_state=42)\n",
    "sc=StandardScaler()\n",
    "X_train_sc = sc.fit_transform(X_train)\n",
    "X_test_sc = sc.transform (X_test)"
   ]
  },
  {
   "cell_type": "code",
   "execution_count": 57,
   "metadata": {},
   "outputs": [
    {
     "name": "stdout",
     "output_type": "stream",
     "text": [
      "               Pred        y\n",
      "0       6906.700554   7992.0\n",
      "1       4828.505331    300.0\n",
      "2       4149.596638   4610.0\n",
      "3       -397.604191    979.0\n",
      "4       4004.950373      0.0\n",
      "...             ...      ...\n",
      "33400   7679.030071   3400.0\n",
      "33401   5279.407132   7190.0\n",
      "33402   4228.111151   4336.0\n",
      "33403  10117.389513   7410.0\n",
      "33404   5483.384972  16380.0\n",
      "\n",
      "[33405 rows x 2 columns]\n",
      "Linear_Regression Score: 0.12248546541676751 6040.478994145059 0.12104646242736994 5889.031574871823\n",
      "   Feature    Coefficient\n",
      "0      N_D      40.130367\n",
      "1     OC_D     670.414289\n",
      "2      P_D    -771.839050\n",
      "3      K_D    -339.863475\n",
      "4     Zn_D    -392.563923\n",
      "5     Fe_D    -192.460529\n",
      "6     Cu_D     -72.662870\n",
      "7     Mn_D     187.652413\n",
      "8      B_D    -278.437082\n",
      "9      AS%  -59804.435435\n",
      "10   SrAc% -126129.592847\n",
      "11    HAc% -332900.824605\n",
      "12    MAc% -362138.066220\n",
      "13   SlAc% -247933.664463\n",
      "14      N% -360576.230424\n",
      "15    MAl% -583131.436789\n",
      "16   SlAl%  -70515.357662\n",
      "17    Temp    -332.903737\n",
      "18    Rain    -274.425415\n"
     ]
    }
   ],
   "source": [
    "#Linear Regression\n",
    "lm = LinearRegression(normalize=True)\n",
    "\n",
    "model = lm.fit(X_train_sc,y_train)\n",
    "\n",
    "predictions_train=lm.predict(X_train_sc)\n",
    "predictions = lm.predict(X_test_sc)\n",
    "\n",
    "df=pd.DataFrame(list(zip(predictions, y_test)), columns =['Pred', 'y']) \n",
    "print(df)\n",
    "\n",
    "score_train=lm.score(X_train_sc,y_train)\n",
    "accuracy_train=mean_squared_error(y_train,predictions_train)\n",
    "score_test=lm.score(X_test_sc,y_test)\n",
    "accuracy_test=mean_squared_error(y_test,predictions)\n",
    "print('Linear_Regression Score:',score_train, np.sqrt(accuracy_train),score_test, np.sqrt(accuracy_test))\n",
    "weights = pd.DataFrame(list(zip(cols_indep+['Temp','Rain'],lm.coef_)),columns=['Feature','Coefficient'])\n",
    "print(weights)"
   ]
  },
  {
   "cell_type": "code",
   "execution_count": 285,
   "metadata": {},
   "outputs": [
    {
     "name": "stdout",
     "output_type": "stream",
     "text": [
      "       Pred         y\n",
      "0  1.108259  1.224770\n",
      "1  1.192967  2.140992\n",
      "2  1.428625  0.826720\n",
      "3  1.462508  1.377866\n",
      "4  1.366543  1.271876\n",
      "5  1.451688  1.491540\n",
      "6  1.459401  0.757826\n",
      "7  1.657615  2.755732\n",
      "8  1.541169  1.785837\n",
      "9  1.402421  2.204586\n",
      "Linear_Regression Score: 0.13918061312370544 0.6415934465491413 0.1632145282263242 0.5723935541833631\n",
      "Coeficients [-0.          0.         -0.0603792  -0.0518024   0.          0.02179469\n",
      " -0.          0.          0.         -0.00466376 -0.         -0.02740893\n",
      " -0.         -0.         -0.00060839  0.1100677   0.          0.\n",
      "  0.        ]\n"
     ]
    }
   ],
   "source": [
    "lm = ElasticNet(alpha=0.1)\n",
    "\n",
    "model = lm.fit(X_train_sc,y_train)\n",
    "\n",
    "predictions_train=lm.predict(X_train_sc)\n",
    "predictions = lm.predict(X_test_sc)\n",
    "\n",
    "df=pd.DataFrame(list(zip(predictions, y_test)), columns =['Pred', 'y']) \n",
    "print(df[0:10])\n",
    "\n",
    "score_train=lm.score(X_train_sc,y_train)\n",
    "accuracy_train=mean_squared_error(y_train,predictions_train)\n",
    "score_test=lm.score(X_test_sc,y_test)\n",
    "accuracy_test=mean_squared_error(y_test,predictions)\n",
    "print('Linear_Regression Score:',score_train, np.sqrt(accuracy_train),score_test, np.sqrt(accuracy_test))\n",
    "print('Coeficients',lm.coef_)"
   ]
  },
  {
   "cell_type": "code",
   "execution_count": null,
   "metadata": {},
   "outputs": [],
   "source": [
    "#XGboost\n",
    "xgb_reg=xgb.XGBRegressor()\n",
    "xgb_model= xgb_reg.fit(X_train_sc,y_train)\n",
    "\n",
    "predictions_xgb=xgb_model.predict(X_test_sc)\n",
    "\n",
    "df_xgb=pd.DataFrame(list(zip(predictions_xgb, y_test)), columns =['Pred_xgb', 'y']) \n",
    "print(df_xgb[0:20])\n",
    "\n",
    "rmse= np.sqrt(mean_squared_error(y_test,predictions_xgb))\n",
    "print(rmse)"
   ]
  },
  {
   "cell_type": "code",
   "execution_count": null,
   "metadata": {},
   "outputs": [],
   "source": [
    "reg = svm.SVR(kernel='linear',C=0.3 , epsilon=0.01)\n",
    "xgb_model= reg.fit(X_train_sc,y_train)\n",
    "predictions_xgb= reg.predict(X_test_sc)\n",
    "df_xgb=pd.DataFrame(list(zip(predictions_xgb, y_test)), columns =['Pred_xgb', 'y']) \n",
    "print(df_xgb[0:20])\n",
    "rmse= np.sqrt(mean_squared_error(y_test,predictions_xgb))\n",
    "print(rmse)"
   ]
  },
  {
   "cell_type": "code",
   "execution_count": null,
   "metadata": {},
   "outputs": [],
   "source": [
    "# Import the model we are using\n",
    "from sklearn.ensemble import RandomForestRegressor\n",
    "# Instantiate model with 1000 decision trees\n",
    "rf = RandomForestRegressor(n_estimators = 1000, random_state = 42)\n",
    "\n",
    "xgb_model= rf.fit(X_train_sc,y_train)\n",
    "\n",
    "predictions_xgb= rf.predict(X_test_sc)\n",
    "\n",
    "df_xgb=pd.DataFrame(list(zip(predictions_xgb, y_test)), columns =['Pred_xgb', 'y']) \n",
    "print(df_xgb[0:20])\n",
    "\n",
    "rmse= np.sqrt(mean_squared_error(y_test,predictions_xgb))\n",
    "print(rmse)"
   ]
  },
  {
   "cell_type": "code",
   "execution_count": null,
   "metadata": {},
   "outputs": [],
   "source": [
    "from sklearn.tree import DecisionTreeRegressor\n",
    "dt = DecisionTreeRegressor(random_state=0)\n",
    "\n",
    "xgb_model= dt.fit(X_train_sc,y_train)\n",
    "\n",
    "predictions_xgb= dt.predict(X_test_sc)\n",
    "\n",
    "df_xgb=pd.DataFrame(list(zip(predictions_xgb, y_test)), columns =['Pred_xgb', 'y']) \n",
    "print(df_xgb[0:20])\n",
    "\n",
    "rmse= np.sqrt(mean_squared_error(y_test,predictions_xgb))\n",
    "print(rmse)"
   ]
  }
 ],
 "metadata": {
  "kernelspec": {
   "display_name": "Python 3",
   "language": "python",
   "name": "python3"
  },
  "language_info": {
   "codemirror_mode": {
    "name": "ipython",
    "version": 3
   },
   "file_extension": ".py",
   "mimetype": "text/x-python",
   "name": "python",
   "nbconvert_exporter": "python",
   "pygments_lexer": "ipython3",
   "version": "3.7.6"
  }
 },
 "nbformat": 4,
 "nbformat_minor": 4
}
