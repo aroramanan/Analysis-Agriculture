{
 "cells": [
  {
   "cell_type": "markdown",
   "metadata": {},
   "source": [
    "#### Environment Setup"
   ]
  },
  {
   "cell_type": "code",
   "execution_count": 1,
   "metadata": {},
   "outputs": [],
   "source": [
    "import pandas as pd\n",
    "import numpy as np\n",
    "from glob import iglob"
   ]
  },
  {
   "cell_type": "markdown",
   "metadata": {},
   "source": [
    "#### Temperature data average across Years - Month Wise"
   ]
  },
  {
   "cell_type": "code",
   "execution_count": 2,
   "metadata": {},
   "outputs": [],
   "source": [
    "temp_stations = pd.read_csv(r'C:\\Users\\Manan Arora\\Desktop\\AgriTech Project\\Data Driven Business Metrics Project\\Data\\Weather\\TempStations.csv')"
   ]
  },
  {
   "cell_type": "code",
   "execution_count": 3,
   "metadata": {},
   "outputs": [],
   "source": [
    "base_path = r'C:\\Users\\Manan Arora\\Desktop\\AgriTech Project\\Data Driven Business Metrics Project\\Data\\Weather\\Temperature_MonthlyAverages\\*.csv'"
   ]
  },
  {
   "cell_type": "code",
   "execution_count": 4,
   "metadata": {},
   "outputs": [],
   "source": [
    "for file_path in iglob(base_path, recursive=True):\n",
    "    tdata = pd.read_csv(file_path).drop('Unnamed: 0',axis=1)\n",
    "    temp_stations = temp_stations.merge(tdata,on=['Longitude','Latitude'],how='inner')"
   ]
  },
  {
   "cell_type": "code",
   "execution_count": 5,
   "metadata": {},
   "outputs": [],
   "source": [
    "jan_col = [col for col in temp_stations.columns if col.startswith('T_Avg_Jan')]\n",
    "feb_col = [col for col in temp_stations.columns if col.startswith('T_Avg_Feb')]\n",
    "mar_col = [col for col in temp_stations.columns if col.startswith('T_Avg_Mar')]\n",
    "apr_col = [col for col in temp_stations.columns if col.startswith('T_Avg_Apr')]\n",
    "may_col = [col for col in temp_stations.columns if col.startswith('T_Avg_May')]\n",
    "jun_col = [col for col in temp_stations.columns if col.startswith('T_Avg_Jun')]\n",
    "jul_col = [col for col in temp_stations.columns if col.startswith('T_Avg_Jul')]\n",
    "aug_col = [col for col in temp_stations.columns if col.startswith('T_Avg_Aug')]\n",
    "sep_col = [col for col in temp_stations.columns if col.startswith('T_Avg_Sep')]\n",
    "oct_col = [col for col in temp_stations.columns if col.startswith('T_Avg_Oct')]\n",
    "nov_col = [col for col in temp_stations.columns if col.startswith('T_Avg_Nov')]\n",
    "dec_col = [col for col in temp_stations.columns if col.startswith('T_Avg_Dec')]\n",
    "avg_jan = temp_stations[jan_col].mean(axis=1)\n",
    "avg_feb = temp_stations[feb_col].mean(axis=1)\n",
    "avg_mar = temp_stations[mar_col].mean(axis=1)\n",
    "avg_apr = temp_stations[apr_col].mean(axis=1)\n",
    "avg_may = temp_stations[may_col].mean(axis=1)\n",
    "avg_jun = temp_stations[jun_col].mean(axis=1)\n",
    "avg_jul = temp_stations[jul_col].mean(axis=1)\n",
    "avg_aug = temp_stations[aug_col].mean(axis=1)\n",
    "avg_sep = temp_stations[sep_col].mean(axis=1)\n",
    "avg_oct = temp_stations[oct_col].mean(axis=1)\n",
    "avg_nov = temp_stations[nov_col].mean(axis=1)\n",
    "avg_dec = temp_stations[dec_col].mean(axis=1)"
   ]
  },
  {
   "cell_type": "code",
   "execution_count": 6,
   "metadata": {},
   "outputs": [],
   "source": [
    "final_temp_data = pd.DataFrame(data={'StationNo':temp_stations['StationNo'],'Longitude':temp_stations['Longitude'],'Latitude':temp_stations['Latitude'],\n",
    "               'T_Avg_Jan':avg_jan,'T_Avg_Feb':avg_feb,'T_Avg_Mar':avg_mar,'T_Avg_Apr':avg_apr,'T_Avg_May':avg_may,'T_Avg_Jun':avg_jun,\n",
    "               'T_Avg_Jul':avg_jul,'T_Avg_Aug':avg_aug,'T_Avg_Sep':avg_sep,'T_Avg_Oct':avg_oct,'T_Avg_Nov':avg_nov,'T_Avg_Dec':avg_dec})"
   ]
  },
  {
   "cell_type": "code",
   "execution_count": 7,
   "metadata": {},
   "outputs": [],
   "source": [
    "final_temp_data.dropna().to_csv(r'C:\\Users\\Manan Arora\\Desktop\\AgriTech Project\\Data Driven Business Metrics Project\\Data\\Weather\\Station-MonthWise-AverageTemp.csv',index=False)"
   ]
  },
  {
   "cell_type": "markdown",
   "metadata": {},
   "source": [
    "#### Rain data average across Years - Month Wise"
   ]
  },
  {
   "cell_type": "code",
   "execution_count": 8,
   "metadata": {},
   "outputs": [],
   "source": [
    "rain_stations = pd.read_csv(r'C:\\Users\\Manan Arora\\Desktop\\AgriTech Project\\Data Driven Business Metrics Project\\Data\\Weather\\RainStations.csv')"
   ]
  },
  {
   "cell_type": "code",
   "execution_count": 9,
   "metadata": {},
   "outputs": [],
   "source": [
    "base_path = r'C:\\Users\\Manan Arora\\Desktop\\AgriTech Project\\Data Driven Business Metrics Project\\Data\\Weather\\Rainfall_MonthlyTotal\\*.csv'"
   ]
  },
  {
   "cell_type": "code",
   "execution_count": 10,
   "metadata": {},
   "outputs": [],
   "source": [
    "for file_path in iglob(base_path, recursive=True):\n",
    "    tdata = pd.read_csv(file_path).drop('Unnamed: 0',axis=1)\n",
    "    rain_stations = rain_stations.merge(tdata,on=['Longitude','Latitude'],how='inner')"
   ]
  },
  {
   "cell_type": "code",
   "execution_count": 11,
   "metadata": {},
   "outputs": [],
   "source": [
    "jan_col = [col for col in rain_stations.columns if col.startswith('R_Sum_Jan')]\n",
    "feb_col = [col for col in rain_stations.columns if col.startswith('R_Sum_Feb')]\n",
    "mar_col = [col for col in rain_stations.columns if col.startswith('R_Sum_Mar')]\n",
    "apr_col = [col for col in rain_stations.columns if col.startswith('R_Sum_Apr')]\n",
    "may_col = [col for col in rain_stations.columns if col.startswith('R_Sum_May')]\n",
    "jun_col = [col for col in rain_stations.columns if col.startswith('R_Sum_Jun')]\n",
    "jul_col = [col for col in rain_stations.columns if col.startswith('R_Sum_Jul')]\n",
    "aug_col = [col for col in rain_stations.columns if col.startswith('R_Sum_Aug')]\n",
    "sep_col = [col for col in rain_stations.columns if col.startswith('R_Sum_Sep')]\n",
    "oct_col = [col for col in rain_stations.columns if col.startswith('R_Sum_Oct')]\n",
    "nov_col = [col for col in rain_stations.columns if col.startswith('R_Sum_Nov')]\n",
    "dec_col = [col for col in rain_stations.columns if col.startswith('R_Sum_Dec')]\n",
    "avg_jan = rain_stations[jan_col].mean(axis=1)\n",
    "avg_feb = rain_stations[feb_col].mean(axis=1)\n",
    "avg_mar = rain_stations[mar_col].mean(axis=1)\n",
    "avg_apr = rain_stations[apr_col].mean(axis=1)\n",
    "avg_may = rain_stations[may_col].mean(axis=1)\n",
    "avg_jun = rain_stations[jun_col].mean(axis=1)\n",
    "avg_jul = rain_stations[jul_col].mean(axis=1)\n",
    "avg_aug = rain_stations[aug_col].mean(axis=1)\n",
    "avg_sep = rain_stations[sep_col].mean(axis=1)\n",
    "avg_oct = rain_stations[oct_col].mean(axis=1)\n",
    "avg_nov = rain_stations[nov_col].mean(axis=1)\n",
    "avg_dec = rain_stations[dec_col].mean(axis=1)"
   ]
  },
  {
   "cell_type": "code",
   "execution_count": 12,
   "metadata": {},
   "outputs": [],
   "source": [
    "final_rain_data = pd.DataFrame(data={'StationNo':rain_stations['StationNo'],'Longitude':rain_stations['Longitude'],'Latitude':rain_stations['Latitude'],\n",
    "               'R_Avg_Jan':avg_jan,'R_Avg_Feb':avg_feb,'R_Avg_Mar':avg_mar,'R_Avg_Apr':avg_apr,'R_Avg_May':avg_may,'R_Avg_Jun':avg_jun,\n",
    "               'R_Avg_Jul':avg_jul,'R_Avg_Aug':avg_aug,'R_Avg_Sep':avg_sep,'R_Avg_Oct':avg_oct,'R_Avg_Nov':avg_nov,'R_Avg_Dec':avg_dec})"
   ]
  },
  {
   "cell_type": "code",
   "execution_count": 13,
   "metadata": {},
   "outputs": [],
   "source": [
    "final_rain_data.dropna().to_csv(r'C:\\Users\\Manan Arora\\Desktop\\AgriTech Project\\Data Driven Business Metrics Project\\Data\\Weather\\Station-MonthWise-AverageRainfall.csv',index=False)"
   ]
  },
  {
   "cell_type": "markdown",
   "metadata": {},
   "source": [
    "### Sub District Locations"
   ]
  },
  {
   "cell_type": "code",
   "execution_count": 14,
   "metadata": {},
   "outputs": [],
   "source": [
    "loc_data = pd.read_csv(r'C:\\Users\\Manan Arora\\Desktop\\AgriTech Project\\Data Driven Business Metrics Project\\Data\\SubDist-Location.csv')"
   ]
  },
  {
   "cell_type": "code",
   "execution_count": 15,
   "metadata": {},
   "outputs": [],
   "source": [
    "loc_data['Sub-District'] = loc_data['Address'].apply(lambda x: x.split(',')[0].strip())\n",
    "loc_data['District'] = loc_data['Address'].apply(lambda x: x.split(',')[1].strip())\n",
    "loc_data['State'] = loc_data['Address'].apply(lambda x: x.split(',')[2].strip())"
   ]
  },
  {
   "cell_type": "code",
   "execution_count": 16,
   "metadata": {},
   "outputs": [],
   "source": [
    "loc_data[['State','District','Sub-District','lat','long']].to_csv(r'C:\\Users\\Manan Arora\\Desktop\\AgriTech Project\\Data Driven Business Metrics Project\\FinalSubDistData\\Geolocation-SubDistricts.csv',index=False)"
   ]
  },
  {
   "cell_type": "markdown",
   "metadata": {},
   "source": [
    "#### Temperature Stations"
   ]
  },
  {
   "cell_type": "code",
   "execution_count": 17,
   "metadata": {},
   "outputs": [],
   "source": [
    "temp_mapping = pd.read_csv(r'C:\\Users\\Manan Arora\\Desktop\\AgriTech Project\\Data Driven Business Metrics Project\\Data\\Weather\\Temp_SubDist_Map.csv').drop('Unnamed: 0',axis=1)\n",
    "temp_ma = pd.read_csv(r'C:\\Users\\Manan Arora\\Desktop\\AgriTech Project\\Data Driven Business Metrics Project\\Data\\Weather\\Station-MonthWise-AverageTemp.csv')\n",
    "temp_mapping_ma = temp_mapping.merge(temp_ma.drop(['Latitude','Longitude'],axis=1),on='StationNo',how='inner')\n",
    "temp_mapping_whole = temp_mapping.merge(temp_stations.drop(['Latitude','Longitude'],axis=1),on='StationNo',how='inner')"
   ]
  },
  {
   "cell_type": "code",
   "execution_count": 18,
   "metadata": {},
   "outputs": [],
   "source": [
    "temp_mapping_ma['Sub-District'] = temp_mapping_ma['Address'].apply(lambda x: x.split(',')[0].strip())\n",
    "temp_mapping_ma['District'] = temp_mapping_ma['Address'].apply(lambda x: x.split(',')[1].strip())\n",
    "temp_mapping_ma['State'] = temp_mapping_ma['Address'].apply(lambda x: x.split(',')[2].strip())\n",
    "temp_mapping_ma.rename(columns={'Latitude':'StationLat','Longitude':'StationLong'},inplace=True)\n",
    "temp_mapping_ma = temp_mapping_ma[['State','District','Sub-District','lat','long','StationNo','StationLat','StationLong',\n",
    "                               'T_Avg_Jan', 'T_Avg_Feb','T_Avg_Mar', 'T_Avg_Apr', 'T_Avg_May', \n",
    "                               'T_Avg_Jun', 'T_Avg_Jul','T_Avg_Aug', 'T_Avg_Sep', 'T_Avg_Oct', \n",
    "                               'T_Avg_Nov', 'T_Avg_Dec']]"
   ]
  },
  {
   "cell_type": "code",
   "execution_count": 19,
   "metadata": {},
   "outputs": [],
   "source": [
    "temp_mapping_whole['Sub-District'] = temp_mapping_whole['Address'].apply(lambda x: x.split(',')[0].strip())\n",
    "temp_mapping_whole['District'] = temp_mapping_whole['Address'].apply(lambda x: x.split(',')[1].strip())\n",
    "temp_mapping_whole['State'] = temp_mapping_whole['Address'].apply(lambda x: x.split(',')[2].strip())\n",
    "temp_mapping_whole.rename(columns={'Latitude':'StationLat','Longitude':'StationLong'},inplace=True)\n",
    "temp_cols = [x for x in temp_mapping_whole.columns if x.startswith('T_Avg')]\n",
    "temp_mapping_whole = temp_mapping_whole[['State','District','Sub-District','lat','long','StationNo','StationLat','StationLong']+temp_cols]"
   ]
  },
  {
   "cell_type": "code",
   "execution_count": 20,
   "metadata": {},
   "outputs": [],
   "source": [
    "temp_mapping_ma.to_csv(r'C:\\Users\\Manan Arora\\Desktop\\AgriTech Project\\Data Driven Business Metrics Project\\Data\\Weather\\TempStations-SubDistricts-MonthlyAverages.csv',index=False)\n",
    "temp_mapping_whole.to_csv(r'C:\\Users\\Manan Arora\\Desktop\\AgriTech Project\\Data Driven Business Metrics Project\\Data\\Weather\\TempStations-SubDistricts-AllYears.csv',index=False)"
   ]
  },
  {
   "cell_type": "markdown",
   "metadata": {},
   "source": [
    "#### Rainfall Stations"
   ]
  },
  {
   "cell_type": "code",
   "execution_count": 21,
   "metadata": {},
   "outputs": [],
   "source": [
    "rain_mapping = pd.read_csv(r'C:\\Users\\Manan Arora\\Desktop\\AgriTech Project\\Data Driven Business Metrics Project\\Data\\Weather\\Rain_SubDist_Map.csv')\n",
    "rain_ma = pd.read_csv(r'C:\\Users\\Manan Arora\\Desktop\\AgriTech Project\\Data Driven Business Metrics Project\\Data\\Weather\\Station-MonthWise-AverageRainfall.csv')\n",
    "rain_mapping_ma = rain_mapping.merge(rain_ma.drop(['Latitude','Longitude'],axis=1),on='StationNo',how='inner')\n",
    "rain_mapping_whole = rain_mapping.merge(rain_stations.drop(['Latitude','Longitude'],axis=1),on='StationNo',how='inner')"
   ]
  },
  {
   "cell_type": "code",
   "execution_count": 22,
   "metadata": {},
   "outputs": [],
   "source": [
    "rain_mapping_ma['Sub-District'] = rain_mapping_ma['Address'].apply(lambda x: x.split(',')[0].strip())\n",
    "rain_mapping_ma['District'] = rain_mapping_ma['Address'].apply(lambda x: x.split(',')[1].strip())\n",
    "rain_mapping_ma['State'] = rain_mapping_ma['Address'].apply(lambda x: x.split(',')[2].strip())\n",
    "rain_mapping_ma.rename(columns={'Latitude':'StationLat','Longitude':'StationLong'},inplace=True)\n",
    "rain_mapping_ma = rain_mapping_ma[['State','District','Sub-District','lat','long','StationNo','StationLat','StationLong',\n",
    "                               'R_Avg_Jan', 'R_Avg_Feb','R_Avg_Mar', 'R_Avg_Apr', 'R_Avg_May', \n",
    "                               'R_Avg_Jun', 'R_Avg_Jul','R_Avg_Aug', 'R_Avg_Sep', 'R_Avg_Oct', \n",
    "                               'R_Avg_Nov', 'R_Avg_Dec']]"
   ]
  },
  {
   "cell_type": "code",
   "execution_count": 23,
   "metadata": {},
   "outputs": [],
   "source": [
    "rain_mapping_whole['Sub-District'] = rain_mapping_whole['Address'].apply(lambda x: x.split(',')[0].strip())\n",
    "rain_mapping_whole['District'] = rain_mapping_whole['Address'].apply(lambda x: x.split(',')[1].strip())\n",
    "rain_mapping_whole['State'] = rain_mapping_whole['Address'].apply(lambda x: x.split(',')[2].strip())\n",
    "rain_mapping_whole.rename(columns={'Latitude':'StationLat','Longitude':'StationLong'},inplace=True)\n",
    "rain_cols = [x for x in rain_mapping_whole.columns if x.startswith('R_Sum')]\n",
    "rain_mapping_whole = rain_mapping_whole[['State','District','Sub-District','lat','long','StationNo','StationLat','StationLong'] + rain_cols]"
   ]
  },
  {
   "cell_type": "code",
   "execution_count": 24,
   "metadata": {},
   "outputs": [],
   "source": [
    "rain_mapping_ma.to_csv(r'C:\\Users\\Manan Arora\\Desktop\\AgriTech Project\\Data Driven Business Metrics Project\\Data\\Weather\\RainStations-SubDistricts-MonthlyAverages.csv',index=False)\n",
    "rain_mapping_whole.to_csv(r'C:\\Users\\Manan Arora\\Desktop\\AgriTech Project\\Data Driven Business Metrics Project\\Data\\Weather\\RainStations-SubDistricts-AllYears.csv',index=False)"
   ]
  },
  {
   "cell_type": "markdown",
   "metadata": {},
   "source": [
    "### Soil Data at Sub Districts"
   ]
  },
  {
   "cell_type": "code",
   "execution_count": 25,
   "metadata": {},
   "outputs": [],
   "source": [
    "soil_data = pd.read_csv(r'C:\\Users\\Manan Arora\\Desktop\\AgriTech Project\\Data Driven Business Metrics Project\\Data\\Soil Data\\Soil_SubDist_AllData_New.csv')"
   ]
  },
  {
   "cell_type": "markdown",
   "metadata": {},
   "source": [
    "#### Combing all Sub-District Level Data"
   ]
  },
  {
   "cell_type": "code",
   "execution_count": 26,
   "metadata": {},
   "outputs": [
    {
     "name": "stdout",
     "output_type": "stream",
     "text": [
      "Soil Data: 2200\n",
      "Temperature Data: 2200\n",
      "Rainfall Data: 2200\n",
      "Sub-District Location Data: 2200\n"
     ]
    }
   ],
   "source": [
    "print('Soil Data:',len(soil_data))\n",
    "print('Temperature Data:',len(temp_mapping_ma))\n",
    "print('Rainfall Data:',len(rain_mapping_ma))\n",
    "print('Sub-District Location Data:',len(loc_data))"
   ]
  },
  {
   "cell_type": "code",
   "execution_count": 27,
   "metadata": {},
   "outputs": [],
   "source": [
    "combined_dat = loc_data.merge(soil_data.drop(['lat','long'],axis=1),on = ['State','District','Sub-District'])\\\n",
    "        .merge(temp_mapping_ma.drop(['StationNo','StationLat','StationLong','lat','long'],axis=1),on = ['State','District','Sub-District'])\\\n",
    "        .merge(rain_mapping_ma.drop(['StationNo','StationLat','StationLong','lat','long'],axis=1), on = ['State','District','Sub-District'])"
   ]
  },
  {
   "cell_type": "code",
   "execution_count": 28,
   "metadata": {},
   "outputs": [],
   "source": [
    "combined_dat.to_csv(r'C:\\Users\\Manan Arora\\Desktop\\AgriTech Project\\Data Driven Business Metrics Project\\FinalSubDistData\\SubDist-CompiledFinal_New.csv',index=False)"
   ]
  }
 ],
 "metadata": {
  "kernelspec": {
   "display_name": "Python 3",
   "language": "python",
   "name": "python3"
  },
  "language_info": {
   "codemirror_mode": {
    "name": "ipython",
    "version": 3
   },
   "file_extension": ".py",
   "mimetype": "text/x-python",
   "name": "python",
   "nbconvert_exporter": "python",
   "pygments_lexer": "ipython3",
   "version": "3.7.6"
  }
 },
 "nbformat": 4,
 "nbformat_minor": 4
}
